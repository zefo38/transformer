{
  "nbformat": 4,
  "nbformat_minor": 0,
  "metadata": {
    "colab": {
      "provenance": [],
      "gpuType": "T4",
      "authorship_tag": "ABX9TyPN44jU6z4bS8jhTfxokdW3"
    },
    "kernelspec": {
      "name": "python3",
      "display_name": "Python 3"
    },
    "language_info": {
      "name": "python"
    },
    "accelerator": "GPU"
  },
  "cells": [
    {
      "cell_type": "markdown",
      "source": [
        "# transformers\n",
        "-  Hugging Face에서 제공하는 NLP 모델 라이브러리로, BERT, GPT, RoBERTa, T5 등 다양한 사전 학습된 모델을 지원한다.\n",
        "- NLP와 트랜스포머 기반 딥러닝 연구를 간편하게 수행할 수 있도록 도와준다."
      ],
      "metadata": {
        "id": "h4tbSWhMhhnK"
      }
    },
    {
      "cell_type": "code",
      "execution_count": 1,
      "metadata": {
        "colab": {
          "base_uri": "https://localhost:8080/"
        },
        "id": "YrfR3gh-f38_",
        "outputId": "61b6fb62-1a00-4ce0-9dc6-a9a434abd6b0"
      },
      "outputs": [
        {
          "output_type": "stream",
          "name": "stdout",
          "text": [
            "Reading package lists... Done\n",
            "Building dependency tree... Done\n",
            "Reading state information... Done\n",
            "The following NEW packages will be installed:\n",
            "  fonts-nanum\n",
            "0 upgraded, 1 newly installed, 0 to remove and 49 not upgraded.\n",
            "Need to get 10.3 MB of archives.\n",
            "After this operation, 34.1 MB of additional disk space will be used.\n",
            "Get:1 http://archive.ubuntu.com/ubuntu jammy/universe amd64 fonts-nanum all 20200506-1 [10.3 MB]\n",
            "Fetched 10.3 MB in 1s (14.4 MB/s)\n",
            "debconf: unable to initialize frontend: Dialog\n",
            "debconf: (No usable dialog-like program is installed, so the dialog based frontend cannot be used. at /usr/share/perl5/Debconf/FrontEnd/Dialog.pm line 78, <> line 1.)\n",
            "debconf: falling back to frontend: Readline\n",
            "debconf: unable to initialize frontend: Readline\n",
            "debconf: (This frontend requires a controlling tty.)\n",
            "debconf: falling back to frontend: Teletype\n",
            "dpkg-preconfigure: unable to re-open stdin: \n",
            "Selecting previously unselected package fonts-nanum.\n",
            "(Reading database ... 123634 files and directories currently installed.)\n",
            "Preparing to unpack .../fonts-nanum_20200506-1_all.deb ...\n",
            "Unpacking fonts-nanum (20200506-1) ...\n",
            "Setting up fonts-nanum (20200506-1) ...\n",
            "Processing triggers for fontconfig (2.13.1-4.2ubuntu5) ...\n",
            "/usr/share/fonts: caching, new cache contents: 0 fonts, 1 dirs\n",
            "/usr/share/fonts/truetype: caching, new cache contents: 0 fonts, 3 dirs\n",
            "/usr/share/fonts/truetype/humor-sans: caching, new cache contents: 1 fonts, 0 dirs\n",
            "/usr/share/fonts/truetype/liberation: caching, new cache contents: 16 fonts, 0 dirs\n",
            "/usr/share/fonts/truetype/nanum: caching, new cache contents: 12 fonts, 0 dirs\n",
            "/usr/local/share/fonts: caching, new cache contents: 0 fonts, 0 dirs\n",
            "/root/.local/share/fonts: skipping, no such directory\n",
            "/root/.fonts: skipping, no such directory\n",
            "/usr/share/fonts/truetype: skipping, looped directory detected\n",
            "/usr/share/fonts/truetype/humor-sans: skipping, looped directory detected\n",
            "/usr/share/fonts/truetype/liberation: skipping, looped directory detected\n",
            "/usr/share/fonts/truetype/nanum: skipping, looped directory detected\n",
            "/var/cache/fontconfig: cleaning cache directory\n",
            "/root/.cache/fontconfig: not cleaning non-existent cache directory\n",
            "/root/.fontconfig: not cleaning non-existent cache directory\n",
            "fc-cache: succeeded\n"
          ]
        }
      ],
      "source": [
        "!sudo apt-get install -y fonts-nanum\n",
        "!sudo fc-cache -fv\n",
        "!rm ~/.cache/matplotlib -rf\n"
      ]
    },
    {
      "cell_type": "code",
      "source": [
        "import matplotlib.pyplot as plt\n",
        "plt.rc('font',family=\"NanumBarunGothic\")\n",
        "plt.rcParams[\"axes.unicode_minus\"] = False"
      ],
      "metadata": {
        "id": "nHsA94JHgTO-"
      },
      "execution_count": 1,
      "outputs": []
    },
    {
      "cell_type": "markdown",
      "source": [
        "\n",
        "\n",
        "```\n",
        "gdown : google drive에 저장된 파일 다운로드할 수 있게 도와주는 패키지  \n",
        "(머신러닝 모델, 데이터셋)  \n",
        "einops : 딥러닝 작업에서 텐서의 재배열을 간단하게 처리하도록 도와주는 패키지  \n",
        "(transformers 모델처럼 복잡한 텐서 구조에 유용)  \n",
        "sentencepiece : 텍스트 토큰화, 언어에 구애받지 않고 BPE(Byte Pair Encoding)나 Unigram 모델 기반으로 서브워드 토큰화 제공  \n",
        "(Hugging Face와 같은 NLP 라이브러리와 함께 사용)  \n",
        "sacremoses : 텍스트 전처리, 텍스트를 토큰화하거나 역토큰화할 때 사용되며, 번역 모델의 전처리 단계에서 자주 사용\n",
        "```\n",
        "\n"
      ],
      "metadata": {
        "id": "2YQD7qgAgy3V"
      }
    },
    {
      "cell_type": "code",
      "source": [
        "!pip install gdown\n",
        "!pip inatall einops\n",
        "!pip install sentencepiece\n",
        "!pip install transformers\n",
        "!pip install sacremoses"
      ],
      "metadata": {
        "colab": {
          "base_uri": "https://localhost:8080/"
        },
        "id": "01Hpu9lggg2q",
        "outputId": "5403a285-6944-4c19-f98c-0a4ba434c04b"
      },
      "execution_count": 2,
      "outputs": [
        {
          "output_type": "stream",
          "name": "stdout",
          "text": [
            "Requirement already satisfied: gdown in /usr/local/lib/python3.10/dist-packages (5.2.0)\n",
            "Requirement already satisfied: beautifulsoup4 in /usr/local/lib/python3.10/dist-packages (from gdown) (4.12.3)\n",
            "Requirement already satisfied: filelock in /usr/local/lib/python3.10/dist-packages (from gdown) (3.16.1)\n",
            "Requirement already satisfied: requests[socks] in /usr/local/lib/python3.10/dist-packages (from gdown) (2.32.3)\n",
            "Requirement already satisfied: tqdm in /usr/local/lib/python3.10/dist-packages (from gdown) (4.67.1)\n",
            "Requirement already satisfied: soupsieve>1.2 in /usr/local/lib/python3.10/dist-packages (from beautifulsoup4->gdown) (2.6)\n",
            "Requirement already satisfied: charset-normalizer<4,>=2 in /usr/local/lib/python3.10/dist-packages (from requests[socks]->gdown) (3.4.0)\n",
            "Requirement already satisfied: idna<4,>=2.5 in /usr/local/lib/python3.10/dist-packages (from requests[socks]->gdown) (3.10)\n",
            "Requirement already satisfied: urllib3<3,>=1.21.1 in /usr/local/lib/python3.10/dist-packages (from requests[socks]->gdown) (2.2.3)\n",
            "Requirement already satisfied: certifi>=2017.4.17 in /usr/local/lib/python3.10/dist-packages (from requests[socks]->gdown) (2024.12.14)\n",
            "Requirement already satisfied: PySocks!=1.5.7,>=1.5.6 in /usr/local/lib/python3.10/dist-packages (from requests[socks]->gdown) (1.7.1)\n",
            "ERROR: unknown command \"inatall\" - maybe you meant \"install\"\n",
            "Requirement already satisfied: sentencepiece in /usr/local/lib/python3.10/dist-packages (0.2.0)\n",
            "Requirement already satisfied: transformers in /usr/local/lib/python3.10/dist-packages (4.47.1)\n",
            "Requirement already satisfied: filelock in /usr/local/lib/python3.10/dist-packages (from transformers) (3.16.1)\n",
            "Requirement already satisfied: huggingface-hub<1.0,>=0.24.0 in /usr/local/lib/python3.10/dist-packages (from transformers) (0.27.0)\n",
            "Requirement already satisfied: numpy>=1.17 in /usr/local/lib/python3.10/dist-packages (from transformers) (1.26.4)\n",
            "Requirement already satisfied: packaging>=20.0 in /usr/local/lib/python3.10/dist-packages (from transformers) (24.2)\n",
            "Requirement already satisfied: pyyaml>=5.1 in /usr/local/lib/python3.10/dist-packages (from transformers) (6.0.2)\n",
            "Requirement already satisfied: regex!=2019.12.17 in /usr/local/lib/python3.10/dist-packages (from transformers) (2024.11.6)\n",
            "Requirement already satisfied: requests in /usr/local/lib/python3.10/dist-packages (from transformers) (2.32.3)\n",
            "Requirement already satisfied: tokenizers<0.22,>=0.21 in /usr/local/lib/python3.10/dist-packages (from transformers) (0.21.0)\n",
            "Requirement already satisfied: safetensors>=0.4.1 in /usr/local/lib/python3.10/dist-packages (from transformers) (0.4.5)\n",
            "Requirement already satisfied: tqdm>=4.27 in /usr/local/lib/python3.10/dist-packages (from transformers) (4.67.1)\n",
            "Requirement already satisfied: fsspec>=2023.5.0 in /usr/local/lib/python3.10/dist-packages (from huggingface-hub<1.0,>=0.24.0->transformers) (2024.10.0)\n",
            "Requirement already satisfied: typing-extensions>=3.7.4.3 in /usr/local/lib/python3.10/dist-packages (from huggingface-hub<1.0,>=0.24.0->transformers) (4.12.2)\n",
            "Requirement already satisfied: charset-normalizer<4,>=2 in /usr/local/lib/python3.10/dist-packages (from requests->transformers) (3.4.0)\n",
            "Requirement already satisfied: idna<4,>=2.5 in /usr/local/lib/python3.10/dist-packages (from requests->transformers) (3.10)\n",
            "Requirement already satisfied: urllib3<3,>=1.21.1 in /usr/local/lib/python3.10/dist-packages (from requests->transformers) (2.2.3)\n",
            "Requirement already satisfied: certifi>=2017.4.17 in /usr/local/lib/python3.10/dist-packages (from requests->transformers) (2024.12.14)\n",
            "Collecting sacremoses\n",
            "  Downloading sacremoses-0.1.1-py3-none-any.whl.metadata (8.3 kB)\n",
            "Requirement already satisfied: regex in /usr/local/lib/python3.10/dist-packages (from sacremoses) (2024.11.6)\n",
            "Requirement already satisfied: click in /usr/local/lib/python3.10/dist-packages (from sacremoses) (8.1.7)\n",
            "Requirement already satisfied: joblib in /usr/local/lib/python3.10/dist-packages (from sacremoses) (1.4.2)\n",
            "Requirement already satisfied: tqdm in /usr/local/lib/python3.10/dist-packages (from sacremoses) (4.67.1)\n",
            "Downloading sacremoses-0.1.1-py3-none-any.whl (897 kB)\n",
            "\u001b[2K   \u001b[90m━━━━━━━━━━━━━━━━━━━━━━━━━━━━━━━━━━━━━━━━\u001b[0m \u001b[32m897.5/897.5 kB\u001b[0m \u001b[31m23.8 MB/s\u001b[0m eta \u001b[36m0:00:00\u001b[0m\n",
            "\u001b[?25hInstalling collected packages: sacremoses\n",
            "Successfully installed sacremoses-0.1.1\n"
          ]
        }
      ]
    },
    {
      "cell_type": "code",
      "source": [
        "import torch\n",
        "\n",
        "DEVICE = \"cuda\" if torch.cuda.is_available() else \"cpu\"\n",
        "\n",
        "#\n",
        "train_model = False\n",
        "\n",
        "DEVICE"
      ],
      "metadata": {
        "colab": {
          "base_uri": "https://localhost:8080/",
          "height": 35
        },
        "id": "KoSXSmU2grUg",
        "outputId": "cebb1192-d0f1-4b82-c3ba-f93ad1c08bf3"
      },
      "execution_count": 3,
      "outputs": [
        {
          "output_type": "execute_result",
          "data": {
            "text/plain": [
              "'cuda'"
            ],
            "application/vnd.google.colaboratory.intrinsic+json": {
              "type": "string"
            }
          },
          "metadata": {},
          "execution_count": 3
        }
      ]
    },
    {
      "cell_type": "markdown",
      "source": [
        "# 1. 모델 구현  \n",
        "## 1. MHA ( Multi Head Attention )  \n",
        "Encoder, Decoder의 Self Attention을 수행하는 모듈  \n",
        "### 1.1 einops 사용하기  \n",
        "- 장점 : 텐서의 변환을 매우 쉽게 이해하고 변환 가능  \n",
        "- 단점 : 오류 잡기가 매우 힘들고 속도도 비교적 느리다"
      ],
      "metadata": {
        "id": "b9EIKGA2h4_v"
      }
    },
    {
      "cell_type": "code",
      "source": [
        "from einops import rearrange\n",
        "\n",
        "# 차원 재배치\n",
        "x = torch.randn(2, 3, 4) # Tensor shape : (2, 3, 4)\n",
        "y = rearrange(x, 'a b c -> c a b')\n",
        "\n",
        "y.shape\n"
      ],
      "metadata": {
        "colab": {
          "base_uri": "https://localhost:8080/"
        },
        "id": "X6Ej-RL6h3El",
        "outputId": "1bc58ded-6c70-470d-9516-26991c7123a9"
      },
      "execution_count": 4,
      "outputs": [
        {
          "output_type": "execute_result",
          "data": {
            "text/plain": [
              "torch.Size([4, 2, 3])"
            ]
          },
          "metadata": {},
          "execution_count": 4
        }
      ]
    },
    {
      "cell_type": "code",
      "source": [
        "# 차원 합치기\n",
        "x = torch.randn(2, 3, 4)\n",
        "y = rearrange(x, 'a b c -> (a b) c')\n",
        "\n",
        "y.shape"
      ],
      "metadata": {
        "colab": {
          "base_uri": "https://localhost:8080/"
        },
        "id": "I8va0BEuiYae",
        "outputId": "11c89786-1ca6-4490-985e-b32131dacc3d"
      },
      "execution_count": 5,
      "outputs": [
        {
          "output_type": "execute_result",
          "data": {
            "text/plain": [
              "torch.Size([6, 4])"
            ]
          },
          "metadata": {},
          "execution_count": 5
        }
      ]
    },
    {
      "cell_type": "code",
      "source": [
        "# 차원 나누기\n",
        "x = torch.randn(6, 4)\n",
        "y = rearrange(x, '(a b) c -> a b c', a=2, b=3)\n",
        "\n",
        "y.shape"
      ],
      "metadata": {
        "colab": {
          "base_uri": "https://localhost:8080/"
        },
        "id": "kYUvKfBVilwj",
        "outputId": "ddc4ab26-dfd2-4abb-896c-1738a4592620"
      },
      "execution_count": 6,
      "outputs": [
        {
          "output_type": "execute_result",
          "data": {
            "text/plain": [
              "torch.Size([2, 3, 4])"
            ]
          },
          "metadata": {},
          "execution_count": 6
        }
      ]
    },
    {
      "cell_type": "markdown",
      "source": [
        "## 2. MHA 구현"
      ],
      "metadata": {
        "id": "MJdaVwrNi9M4"
      }
    },
    {
      "cell_type": "code",
      "source": [
        "from torch import nn\n",
        "from einops import rearrange\n",
        "import torch\n",
        "\n",
        "class MHA(nn.Module):\n",
        "\n",
        "  def __init__(self, d_model=512, n_heads=8):\n",
        "    \"\"\"\n",
        "      d_model : 임베딩 벡터의 차원 (dimension of embedding vector)\n",
        "      n_heads : 멀티 헤드 어텐션의 헤드 개수 (number of heads in multi_head attention)\n",
        "    \"\"\"\n",
        "    super().__init__()\n",
        "\n",
        "    self.n_heads = n_heads\n",
        "\n",
        "    # Query, Key, Value 벡터를 위한 선형 레이어를 정의\n",
        "    self.fc_q = nn.Linear(d_model, d_model)\n",
        "    self.fc_k = nn.Linear(d_model, d_model)\n",
        "    self.fc_v = nn.Linear(d_model, d_model)\n",
        "\n",
        "    # 최종 출력을 위한 선형 레이어\n",
        "    self.fc_o = nn.Linear(d_model, d_model)\n",
        "\n",
        "    # 어텐션 스코어를 스케일링 하기 위한 값. (d_model / n_heads의 제곱근)\n",
        "    self.scale = torch.sqrt(torch.tensor(d_model / n_heads)) # 512 / 8의 root\n",
        "\n",
        "  def forward(self, Q, K, V, mask=None):\n",
        "    \"\"\"\n",
        "      Q, K, V : 단어가 임베딩 레이어를 통과한 결과. : 임베딩 벡터\n",
        "      shape : (N, t, D) : (batch_size, max_len, dimension)\n",
        "      mask : 어텐션 스코어에 적용할 마스트 (optional)\n",
        "    \"\"\"\n",
        "\n",
        "    # 임베딩 벡터인 Q, K, V에 대한 선형 변환 적용\n",
        "    Q = self.fc_q(Q) # (N, t, D) -> (N, t, D)\n",
        "    K = self.fc_k(K) # (N, t, D) -> (N, t, D)\n",
        "    V = self.fc_v(V) # (N, t, D) -> (N, t, D)\n",
        "\n",
        "    # 멀티 헤드를 위해 임베딩 차원 D를 헤드 개수 n_heads로 분할\n",
        "    # 예를 들어 (32, 128, 512)로 들어왔을 때 8개의 head로 나누면 (32, 8, 128, 64)\n",
        "    Q = rearrange(Q, 'N t (h dk) -> N h t dk', h=self.n_heads) # (N, t, D) -> (N, h, t, D//h)\n",
        "    K = rearrange(K, 'N t (h dk) -> N h t dk', h=self.n_heads) # (N, t, D) -> (N, h, t, D//h)\n",
        "    V = rearrange(V, 'N t (h dk) -> N h t dk', h=self.n_heads) # (N, t, D) -> (N, h, t, D//h)\n",
        "\n",
        "    # 어텐션 스코어 구하기 (softmax 통과 전) QK^T / 루트d_k\n",
        "    # Q와 K^T의 내적을 통해 어텐션 스코어를 계산하고 스케일링 적용\n",
        "\n",
        "    # (N, h, t, dk) @ (N, h, dk, t) -> (N, h, t(query의 길이), t(Key의 길이))\n",
        "    attention_score = Q @ K.transpose(-2, -1) / self.scale\n",
        "\n",
        "    # 패딩의 위치에다가 굉장히 작은 값을 강제로 부여 -> 소프트맥스 적용 시에 0이 될 수 있도록\n",
        "    if mask is not None: # 패딩 위치를 의미하는 인덱스들이 존재한다면\n",
        "      attention_score[mask] = -1e10 # mask에 해당하는 위치에 굉장히 작은 값을 넣어준다\n",
        "\n",
        "    # 에너지 값을 구하기 위해서는 키의 방향으로 softmax를 적용한다\n",
        "    energy = torch.softmax(attention_score, dim=-1)\n",
        "\n",
        "    # 에너지와 V를 곱해서 최종 어텐션 값을 구한다\n",
        "    attention = energy @ V # (N, h, t, t) @ (N, h, t, dk) -> (N, h, t, dk)\n",
        "\n",
        "    # 헤드 차원을 연결해서 원래의 차원으로 되돌리기\n",
        "    x = rearrange(attention, 'N h t dk -> N t (h dk)') # (N, h, t, dk) -> (N, t, D)\n",
        "\n",
        "    # 최종 출력값에 대해 선형 변환을 적용한다 각각의 헤드의 생각을 섞어준다.\n",
        "    x = self.fc_o(x) # (N, t, D) -> (N, t, D)\n",
        "\n",
        "    return x, energy"
      ],
      "metadata": {
        "id": "-wyWksH7i78C"
      },
      "execution_count": 75,
      "outputs": []
    },
    {
      "cell_type": "markdown",
      "source": [
        "## 3. FNN (Feed Forward Network)  \n",
        "- 인코더와 디코더의 MHA의 결과를 하나로 합쳐주는 역할"
      ],
      "metadata": {
        "id": "adH2fDP3QwiS"
      }
    },
    {
      "cell_type": "code",
      "source": [
        "class FeedForward(nn.Module):\n",
        "\n",
        "  def __init__(self, d_model=512, d_ff=2048, drop_p=0.1):\n",
        "    super().__init__()\n",
        "\n",
        "    self.linear = nn.Sequential(\n",
        "        nn.Linear(d_model, d_ff),\n",
        "        nn.ReLU(),\n",
        "        nn.Dropout(drop_p),\n",
        "        nn.Linear(d_ff, d_model)\n",
        "    )\n",
        "\n",
        "  def forward(self, mha_output):\n",
        "    out = self.linear(mha_output)\n",
        "    return out"
      ],
      "metadata": {
        "id": "WpVaykQhQv2B"
      },
      "execution_count": 76,
      "outputs": []
    },
    {
      "cell_type": "markdown",
      "source": [
        "## 4. Encoder 구현"
      ],
      "metadata": {
        "id": "O3S3TsPCRVwV"
      }
    },
    {
      "cell_type": "code",
      "source": [
        "# MHA - FFN 연결 과정 구현\n",
        "# 추가적으로 skip connection, LN까지 구현\n",
        "\n",
        "class EncoderLayer(nn.Module):\n",
        "  def __init__(self, d_model, d_ff, n_heads, drop_p):\n",
        "    \"\"\"\n",
        "      d_model : 임베딩 벡터의 차원\n",
        "      d_ff : 피드 포워드 신경망의 은닉층의 차원\n",
        "      n_heads : 멀티 헤드 어텐션의 헤드 개수\n",
        "      drop_p : 드롭아웃 비율\n",
        "    \"\"\"\n",
        "    super().__init__()\n",
        "\n",
        "    # Multi Head Attention 레이어 정의 (self-attention)\n",
        "    self.self_atten = MHA(d_model, n_heads)\n",
        "\n",
        "    # MHA에 대한 Layer Normalization 정의\n",
        "    self.self_atten_LN = nn.LayerNorm(d_model)\n",
        "\n",
        "    # 피드 포워드 네트워크 정의\n",
        "    self.FF = FeedForward(d_model, d_ff, drop_p)\n",
        "\n",
        "    # 피드 포워드 네트워크의 출력에 대한 Layer Normailzation\n",
        "    self.FF_LN = nn.LayerNorm(d_model)\n",
        "\n",
        "    # 드롭아웃 레이어 정의\n",
        "    self.dropout = nn.Dropout(drop_p)\n",
        "\n",
        "  def forward(self, x, enc_mask):\n",
        "\n",
        "    \"\"\"\n",
        "      x : 입력 텐서, Shape은 (batch_size, seq_len, d_model) -> Projection Layer\n",
        "      enc_mask : 입력 마스크, Shape은 (batch_size, 1, seq_len)\n",
        "\n",
        "      return : 인코더 레이어의 출력과 어텐션 가중치(에너지)\n",
        "    \"\"\"\n",
        "\n",
        "    # Multi Head Attention 블록 구현\n",
        "    # 리니어 레이어를 지나기 전에는 Q=K=V다. 이를 x로 받아오고 있음\n",
        "    residual, atten_enc = self.self_atten(Q=x, K=x, V=x, mask=enc_mask)\n",
        "    residual = self.dropout(residual)\n",
        "\n",
        "    # Skip Connection(Add) & Layer Norm\n",
        "    encoder_self_attention_output = self.self_atten_LN(x + residual)\n",
        "\n",
        "    # FFN 블록\n",
        "    residual = self.FF(encoder_self_attention_output)\n",
        "    residual = self.dropout(residual)\n",
        "\n",
        "    # Skip Connection & Layer Norm\n",
        "    encoder_ffn_output = self.FF_LN(encoder_self_attention_output + residual)\n",
        "\n",
        "    return encoder_ffn_output, atten_enc"
      ],
      "metadata": {
        "id": "x-yd0aPqi3PZ"
      },
      "execution_count": 77,
      "outputs": []
    },
    {
      "cell_type": "code",
      "source": [
        "class Encoder(nn.Module):\n",
        "\n",
        "  def __init__(self, input_embedding, max_len, n_layers, d_model, d_ff, n_heads, drop_p):\n",
        "    \"\"\"\n",
        "      input_embedding : 입력 임베딩 레이어 (nn.Embedding)\n",
        "      max_len : 입력 시퀀스의 최대 길이 (int)\n",
        "      n_layers : 인코더 레이어의 개수\n",
        "      d_model : 임베딩 벡터의 차원\n",
        "      d_ff : 피드 포워드 신경망의 은닉층의 차원\n",
        "      n_heads : 멀티 헤드 어텐션의 헤드 개수\n",
        "      drop_p : 드롭아웃 비율\n",
        "    \"\"\"\n",
        "\n",
        "    super().__init__()\n",
        "\n",
        "    # d_model의 제곱근 값으로 scale을 정의하여 임베딩 벡터의 크기를 조정\n",
        "    self.scale = torch.sqrt(torch.tensor(d_model))\n",
        "\n",
        "    # 입력 임베딩 레이어\n",
        "    self.input_embeddin = input_embedding\n",
        "\n",
        "    # 위치 임베딩 레이어 : 입력 시퀀스의 위치 정보를 학습하기 위한 레이어.\n",
        "    # 최근에는 위치 정보도 학습의 대상으로 보기 위함\n",
        "    self.pos_embedding = nn.Embedding(max_len, d_model)\n",
        "\n",
        "    self.dropout = nn.Dropout(drop_p)\n",
        "\n",
        "    # 여러 개의 인코더 레이어를 쌓기 위해 모듈 리스트를 활용\n",
        "    self.layers = nn.ModuleList(\n",
        "        [ EncoderLayer(d_model, d_ff, n_heads, drop_p) for _ in range(n_layers)]\n",
        "    )\n",
        "    self.device = DEVICE\n",
        "\n",
        "  def forward(self, src, mask, atten_map_save=False):\n",
        "    \"\"\"\n",
        "      src : 입력 시퀀스 (batch_size, seq_len)\n",
        "      mask : 패딩을 마스킹하기 위한 마스크 텐서 (batch_size, 1, seq_len)\n",
        "      atten_map_save : 어켄션 맵을 저장할지 여부 (기본값 : False)\n",
        "    \"\"\"\n",
        "\n",
        "    # 위치 인덱스 텐서 생성 : 각 배치에서 시퀀스의 길이만큼 위치 인덱스 반복\n",
        "    pos = torch.arange(src.shape[1]).repeat(src.shape[0], 1).to(self.device)\n",
        "\n",
        "    # 입력 임베딩과 위치 임베딩을 합산해서 입력 텐서 x 생성\n",
        "    x_embedding = self.scale * self.input_embedding(src) + self.pos_embedding(pos)\n",
        "\n",
        "    # 드롭아웃\n",
        "    x_embedding = self.dropout(x_embedding)\n",
        "\n",
        "    # 제일 처음 입력\n",
        "    encoder_output = x_embedding\n",
        "\n",
        "    # 인코더의 에너지 값들을 저장할 비어있는 텐서\n",
        "    atten_encs = torch.tensor([]).to(self.device)\n",
        "\n",
        "    # 각 인코더 레이어를 순차적으로 통과\n",
        "    for layer in self.layers:\n",
        "      # 인코더 레이어를 통과시키면 encoder_output과 에너지 값을 얻는다.\n",
        "      encoder_output, atten_enc = layer(encoder_output, mask)\n",
        "\n",
        "      # atten_map_save가 True면 에너지 저장\n",
        "      if atten_map_save:\n",
        "\n",
        "        # 현재 어텐션 맵을 기존의 atten_encs에 추가 (첫 번째 레이어의 어텐션 맵만 저장 )\n",
        "        atten_encs = torch.cat([atten_encs, atten_enc[0].unsqueeze(0)], dim=0)\n",
        "\n",
        "      # 최종 출력과 에너지 맵을 반환\n",
        "      return encoder_output, atten_encs"
      ],
      "metadata": {
        "id": "7QCld9YPKg6F"
      },
      "execution_count": 78,
      "outputs": []
    },
    {
      "cell_type": "markdown",
      "source": [
        "## 5. Decoder 구현  \n",
        "**Masking 실험**"
      ],
      "metadata": {
        "id": "hglUMTRWQfJr"
      }
    },
    {
      "cell_type": "code",
      "source": [
        "import torch\n",
        "\n",
        "# 예제 설정\n",
        "batch_size = 3\n",
        "seq_len = 10\n",
        "padding = 3\n",
        "n_heads = 8\n",
        "\n",
        "# attention_score 텐서 생성 (무작위 값으로 초기화)\n",
        "# Shape : (batch_size, n_heads, seq_len, seq_len)\n",
        "attention_score = torch.randn(batch_size, n_heads, seq_len, seq_len)\n",
        "\n",
        "# enc_mask 생성 : 패딩이 있는 위치를 마스킹\n",
        "# 각 시퀀스의 마지막 3개 위치에 패딩이 있다고 가정\n",
        "enc_mask = torch.tensor([\n",
        "    [0, 0, 0, 0, 0, 0, 0, 1, 1, 1], # 첫 번째 시퀀스\n",
        "    [0, 0, 0, 0, 0, 0, 0, 1, 1, 1], # 두 번째 시퀀스\n",
        "    [0, 0, 0, 0, 0, 0, 0, 1, 1, 1], # 세 번째 시퀀스\n",
        "], dtype = torch.bool).unsqueeze(1).unsqueeze(2) # Shape : (batch_size, 1, 1, seq_len)\n",
        "\n",
        "# enc_mask의 shape을 (batch_size, n_heads, seq_len, seq_len)로 확장\n",
        "enc_mask = enc_mask.expand(batch_size, n_heads, seq_len, seq_len)\n",
        "\n",
        "print(\"=\"*25, \"attention_score에 마스킹 적용 전\", \"=\"*25)\n",
        "print(\"attention_score[0, 0] (첫 번째 배치, 첫 번째 헤드):\\n\", attention_score[0,0])\n",
        "\n",
        "# attention_score에 enc_mask 적용\n",
        "if enc_mask is not None:\n",
        "  attention_score[enc_mask] = 0 # 마스크된 위치에 매우 작은 값을 넣어 softmax 결과에 영향 미치지 않게 함\n",
        "\n",
        "print(\"=\"*25, \"attention_score에 마스킹 적용 전\", \"=\"*25)\n",
        "print(\"attention_score shape:\", attention_score.shape)\n",
        "print(enc_mask.shape)\n",
        "\n",
        "# 특정 헤드에 대한 attention_score 확인 (첫 번재 헤드)\n",
        "print(\"=\"*25, \"attention_score에 마스킹 적용 후\", \"=\"*25)\n",
        "print(\"attention_score[0, 0] (첫 번째 배치, 첫 번째 헤드):\\n\", attention_score[0, 0])"
      ],
      "metadata": {
        "colab": {
          "base_uri": "https://localhost:8080/"
        },
        "id": "E98shYQqLu0v",
        "outputId": "35ddfd2c-9a40-493a-a3a2-fe01796738c5"
      },
      "execution_count": 79,
      "outputs": [
        {
          "output_type": "stream",
          "name": "stdout",
          "text": [
            "========================= attention_score에 마스킹 적용 전 =========================\n",
            "attention_score[0, 0] (첫 번째 배치, 첫 번째 헤드):\n",
            " tensor([[ 0.3667,  1.3184,  0.7384,  1.0577, -0.5320,  0.8823, -1.4043, -1.1026,\n",
            "         -0.6151,  0.2303],\n",
            "        [ 1.6529, -0.5495,  0.6289,  0.3053,  0.0271, -2.6987,  0.2147,  0.4805,\n",
            "          1.3044, -0.1339],\n",
            "        [ 0.6035,  0.6145, -0.2861,  0.2881,  0.0901, -0.3789,  0.7221, -1.4233,\n",
            "         -1.2146,  0.4257],\n",
            "        [-0.4796,  0.6321, -0.9526,  0.9212,  0.5823, -0.2504,  0.8000,  0.9500,\n",
            "          0.3361, -1.7556],\n",
            "        [ 0.3497,  0.6417,  1.0272,  0.3308,  0.8446, -1.1526, -1.1140,  0.1488,\n",
            "          0.4113,  0.3914],\n",
            "        [ 1.0171, -0.3212,  0.6617,  1.2332, -0.7752, -0.4756, -0.4873,  0.4974,\n",
            "         -1.0437,  0.9954],\n",
            "        [-0.3091, -0.0822,  1.4108,  0.7564,  0.1726,  0.0912,  0.6792, -0.7157,\n",
            "          0.5592, -0.8667],\n",
            "        [-0.1034, -0.7514, -0.0166,  0.8802, -0.3669, -0.2793,  0.6452,  1.5414,\n",
            "          0.7600,  1.7971],\n",
            "        [-0.8073, -0.4370, -0.2414, -1.8709,  0.9689, -0.8748, -0.4729, -0.0582,\n",
            "         -0.3227,  0.6987],\n",
            "        [ 0.8743,  1.3053, -0.2806, -1.7302, -0.5414, -0.6653,  0.0409, -1.8860,\n",
            "          0.0198,  0.2773]])\n",
            "========================= attention_score에 마스킹 적용 전 =========================\n",
            "attention_score shape: torch.Size([3, 8, 10, 10])\n",
            "torch.Size([3, 8, 10, 10])\n",
            "========================= attention_score에 마스킹 적용 후 =========================\n",
            "attention_score[0, 0] (첫 번째 배치, 첫 번째 헤드):\n",
            " tensor([[ 0.3667,  1.3184,  0.7384,  1.0577, -0.5320,  0.8823, -1.4043,  0.0000,\n",
            "          0.0000,  0.0000],\n",
            "        [ 1.6529, -0.5495,  0.6289,  0.3053,  0.0271, -2.6987,  0.2147,  0.0000,\n",
            "          0.0000,  0.0000],\n",
            "        [ 0.6035,  0.6145, -0.2861,  0.2881,  0.0901, -0.3789,  0.7221,  0.0000,\n",
            "          0.0000,  0.0000],\n",
            "        [-0.4796,  0.6321, -0.9526,  0.9212,  0.5823, -0.2504,  0.8000,  0.0000,\n",
            "          0.0000,  0.0000],\n",
            "        [ 0.3497,  0.6417,  1.0272,  0.3308,  0.8446, -1.1526, -1.1140,  0.0000,\n",
            "          0.0000,  0.0000],\n",
            "        [ 1.0171, -0.3212,  0.6617,  1.2332, -0.7752, -0.4756, -0.4873,  0.0000,\n",
            "          0.0000,  0.0000],\n",
            "        [-0.3091, -0.0822,  1.4108,  0.7564,  0.1726,  0.0912,  0.6792,  0.0000,\n",
            "          0.0000,  0.0000],\n",
            "        [-0.1034, -0.7514, -0.0166,  0.8802, -0.3669, -0.2793,  0.6452,  0.0000,\n",
            "          0.0000,  0.0000],\n",
            "        [-0.8073, -0.4370, -0.2414, -1.8709,  0.9689, -0.8748, -0.4729,  0.0000,\n",
            "          0.0000,  0.0000],\n",
            "        [ 0.8743,  1.3053, -0.2806, -1.7302, -0.5414, -0.6653,  0.0409,  0.0000,\n",
            "          0.0000,  0.0000]])\n"
          ]
        }
      ]
    },
    {
      "cell_type": "code",
      "source": [
        "class DecoderLayer(nn.Module):\n",
        "\n",
        "  def __init__(self, d_model, d_ff, n_heads, drop_p):\n",
        "    super().__init__()\n",
        "\n",
        "    # Decoder의 Self-Attention Layer -> Masked Multi Head Attention 정의\n",
        "    self.self_atten = MHA(d_model, n_heads) # forward할 때 Decoder Mask가 따로 부여\n",
        "    self.self_atten_LN = nn.LayerNorm(d_model)\n",
        "\n",
        "    # Encoder - Decoder Attention Layer\n",
        "    self.enc_dec_atten = MHA(d_model, n_heads)\n",
        "    self.enc_dec_atten_LN = nn.LayerNorm(d_model)\n",
        "\n",
        "    # Feed Forward\n",
        "    self.FF = FeedForward(d_model, d_ff, drop_p)\n",
        "    self.FF_LN = nn.LayerNorm(d_model)\n",
        "\n",
        "    # Dropout\n",
        "    self.dropout = nn.Dropout(drop_p)\n",
        "\n",
        "  def forward(self, x, enc_out, dec_mask, enc_dec_mask):\n",
        "    \"\"\"\n",
        "      x : 디코더의 입력 텐서 (batch_size, seq_len, d_model)\n",
        "      enc_out : 인코더의 출력 텐서 (batch_size, seq_len, d_model)\n",
        "      dec_mask : 디코더의 Self-Attention에 사용되는 마스크 (batch_size, 1, seq_len)\n",
        "      enc_dec_mask : 인코더-디코더 Attention에 사용되는 마스크 (batch_size, 1, seq_len)\n",
        "\n",
        "      return : 디코더 레이어의 출력 텐서, 디코더 Self-Attention 맵, 인코더-디코더 Attention 맵\n",
        "    \"\"\"\n",
        "    # 1. 디코더의 Self Attention\n",
        "    residual, atten_dec = self.self_atten(Q=x, K=x, V=x, mask=dec_mask)\n",
        "    residual = self.dropout(residual)\n",
        "    decoder_masked_self_attention_output = self.self_atten_LN(x + residual)\n",
        "\n",
        "    # 2. Encoder - Decoder Attention\n",
        "    # Q는 Masked Multi Head Attention, K, V는 인코더의 출력\n",
        "    residual, atten_dec_enc = self.enc_dec_atten(\n",
        "        Q=decoder_masked_self_attention_output,\n",
        "        K=enc_out,\n",
        "        V=enc_out,\n",
        "        mask=enc_dec_mask\n",
        "    )\n",
        "    residual = self.dropout(residual)\n",
        "    decoder_self_attention_output = self.enc_dec_atten_LN(x + residual)\n",
        "\n",
        "    # 3. Feed Forward\n",
        "    residual = self.FF(decoder_self_attention_output)\n",
        "    residual = self.dropout(residual)\n",
        "    decoder_output = self.FF_LN(decoder_self_attention_output + residual)\n",
        "\n",
        "    # decoder_output : 디코더 출력값. 디코더가 N회 반복된 후 소프트맥스를 만나 단어를 출력하기 위한 값\n",
        "    # atten_dec : Masked Self Attention의 에너지 맵\n",
        "    # atten_dec_enc : Encoder에서 출력한 단어와 Decoder에서 출력할 단어의 에너지 맵\n",
        "    return decoder_output, atten_dec, atten_dec_enc"
      ],
      "metadata": {
        "id": "A07pqWVlSwcu"
      },
      "execution_count": 80,
      "outputs": []
    },
    {
      "cell_type": "code",
      "source": [
        "class Decoder(nn.Module):\n",
        "\n",
        "  def __init__(self, input_embedding, max_len, n_layers, d_model, d_ff, n_heads, drop_p, vocab_size):\n",
        "    \"\"\"\n",
        "      vocab_size : Generator를 만들기 위해 필요함.\n",
        "    \"\"\"\n",
        "    super().__init__()\n",
        "\n",
        "    # d_model의 제곱근으로 스케일을 정의하여 임베딩 벡터의 크기를 조정\n",
        "    self.scale = torch.sqrt(torch.tensor(d_model))\n",
        "\n",
        "    # 입력 임베딩 레이어\n",
        "    self.input_embedding = input_embedding\n",
        "\n",
        "    # 위치 임베딩 레이어\n",
        "    self.pos_embedding = nn.Embedding(max_len, d_model)\n",
        "\n",
        "    # 드롭아웃\n",
        "    self.dropout = nn.Dropout(drop_p)\n",
        "\n",
        "    # 여러 개의 디코더 레이어를 쌓기 위해 모듈 리스트 사용\n",
        "    self.layers = nn.ModuleList(\n",
        "        [ DecoderLayer(d_model, d_ff, n_heads, drop_p) for _ in range(n_layers)]\n",
        "    )\n",
        "\n",
        "    # Generator 구현\n",
        "    #   디코더의 출력 벡터를 단어의 확률 분포로 변환\n",
        "    #   디코더의 출력 벡터는 Decoder layer 연산을 N 회 반복한 이후 나온다.\n",
        "    self.fc_out = nn.Linear(d_model, vocab_size)\n",
        "\n",
        "    self.device = DEVICE\n",
        "\n",
        "  def forward(self, trg, enc_out, dec_mask, enc_dec_mask, atten_map_save=False):\n",
        "      \"\"\"\n",
        "        trg : 디코더의 입력 시퀀스 (target), Shape: (batch_size, seq_len)\n",
        "        enc_out : 인코더의 출력 텐서, Shape: (batch_size, seq_len, d_model)\n",
        "        dec_mask : 디코더의 Self-Attention에 사용되는 마스크 텐서, Shape: (batch_size, 1, seq_len)\n",
        "        enc_dec_mask : 인코더-디코더 Attention에 사용되는 마스크 텐서, Shape: (batch_size, 1, seq_len)\n",
        "        atten_map_save : 어텐션 맵을 저장할지 여부 (기본값: False)\n",
        "\n",
        "        return : 디코더의 출력 텐서, 디코더 Self-Attention 맵, 인코더-디코더 Attention 맵\n",
        "      \"\"\"\n",
        "      # 위치 인덱스 텐서 생성: 각 배치에서 시퀀스 길이만큼 위치 인덱스를 반복\n",
        "      pos = torch.arange(trg.shape[1]).repeat(trg.shape[0], 1).to(self.device)  # (batch_size, seq_len)\n",
        "\n",
        "      # 입력 임베딩과 위치 임베딩을 합산하여 입력 텐서 x를 생성\n",
        "      # 입력 임베딩에 scale을 곱해 크기를 조정\n",
        "      y_embedding = self.scale * self.input_embedding(trg) + self.pos_embedding(pos)  # (batch_size, seq_len, d_model)\n",
        "\n",
        "      # 드롭아웃 적용\n",
        "      y_embedding = self.dropout(y_embedding)\n",
        "\n",
        "      # 어텐션 맵을 저장할 텐서 초기화 (빈 텐서로 시작)\n",
        "      atten_decs = torch.tensor([]).to(self.device)\n",
        "      atten_enc_decs = torch.tensor([]).to(self.device)\n",
        "\n",
        "      # 제일 처음 입력은 y_embedding\n",
        "      decoder_output = y_embedding\n",
        "\n",
        "      # 각 디코더 레이어를 순차적으로 통과\n",
        "      for layer in self.layers:\n",
        "        decoder_output, atten_dec, atten_enc_dec = layer(decoder_output, enc_out, dec_mask, enc_dec_mask)\n",
        "\n",
        "        if atten_map_save:\n",
        "          atten_decs = torch.cat([atten_decs, atten_dec[0].unsqueeze(0)], dim=0)\n",
        "          atten_enc_decs = torch.cat([atten_enc_decs, atten_enc_dec[0].unsqueeze(0)], dim=0)\n",
        "\n",
        "      # 최종 출력층(제너레이터)\n",
        "      decoder_output_linear = self.fc_out(decoder_output)\n",
        "\n",
        "      return decoder_output_linear, atten_decs, atten_enc_decs"
      ],
      "metadata": {
        "id": "mWigq67RXMYw"
      },
      "execution_count": 81,
      "outputs": []
    },
    {
      "cell_type": "markdown",
      "source": [
        "## 6. Transformer 구현\n",
        "- 인코더, 디코더 조립\n",
        "- 인코더, 디코더에 들어갈 마스크 생성"
      ],
      "metadata": {
        "id": "HSLKub3y2RmE"
      }
    },
    {
      "cell_type": "code",
      "source": [
        "class Transformer(nn.Module):\n",
        "\n",
        "  def __init__(self, vocab_size, max_len, n_layers, pad_idx, d_model=512, d_ff=2048, n_heads=8, drop_p=0.1):\n",
        "    super().__init__()\n",
        "\n",
        "    # 입력 임베딩 레이어 정의\n",
        "    self.input_embedding = nn.Embedding(vocab_size, d_model)\n",
        "\n",
        "    # 인코더, 디코더\n",
        "    self.encoder = Encoder(self.input_embedding, max_len, n_layers, d_model, d_ff, n_heads, drop_p)\n",
        "    self.decoder = Decoder(self.input_embedding, max_len, n_layers, d_model, d_ff, n_heads, drop_p, vocab_size)\n",
        "\n",
        "    # 멀티 헤드 어텐션 헤드 개수\n",
        "    self.n_heads = n_heads\n",
        "\n",
        "    # 모든 모듈의 가중치를 Xavier 초기값으로 설정. 단, Layer Normalization이 가중치 제외.\n",
        "    for m in self.modules():\n",
        "      if hasattr(m, 'weight') and m.weight.dim() > 1:  # 인풋 임베딩은 그대로 사용하기 위함\n",
        "        nn.init.xavier_uniform_(m.weight)  # Xavier 초기화를 사용하여 가중치를 초기화\n",
        "\n",
        "    # 패딩 토큰 인덱스\n",
        "    self.pad_idx = pad_idx\n",
        "\n",
        "  def make_enc_mask(self, src):\n",
        "    \"\"\"\n",
        "    인코더 마스크 생성\n",
        "    src : 입력 시퀀스, Shape: (batch_size, seq_len)\n",
        "    return : 인코더 마스크, Shape: (batch_size, n_heads, seq_len, seq_len)\n",
        "    \"\"\"\n",
        "\n",
        "    # 패딩 위치에 대해 True 값을 가지는 마스크 생성\n",
        "    enc_mask = (src == self.pad_idx).unsqueeze(1).unsqueeze(2)  # Shape: (batch_size, 1, 1, seq_len)\n",
        "\n",
        "    # 헤드 수만큼 마스크를 반복하여 확장\n",
        "    enc_mask = enc_mask.repeat(1, self.n_heads, src.shape[1], 1)  # Shape: (batch_size, n_heads, seq_len, seq_len)\n",
        "\n",
        "    \"\"\"\n",
        "    예시:\n",
        "    F F T T\n",
        "    F F T T\n",
        "    F F T T\n",
        "    F F T T\n",
        "    \"\"\"\n",
        "    return enc_mask\n",
        "\n",
        "  def make_dec_mask(self, trg):\n",
        "    \"\"\"\n",
        "    디코더 마스크 생성\n",
        "    trg : 목표 시퀀스, Shape: (batch_size, seq_len)\n",
        "    return : 디코더 마스크, Shape: (batch_size, n_heads, seq_len, seq_len)\n",
        "    \"\"\"\n",
        "\n",
        "    # 패딩 위치에 대해 True 값을 가지는 마스크 생성\n",
        "    trg_pad_mask = (trg.to('cpu') == self.pad_idx).unsqueeze(1).unsqueeze(2)  # Shape: (batch_size, 1, 1, seq_len)\n",
        "\n",
        "    # 헤드 수만큼 마스크를 반복하여 확장\n",
        "    trg_pad_mask = trg_pad_mask.repeat(1, self.n_heads, trg.shape[1], 1)  # Shape: (batch_size, n_heads, seq_len, seq_len)\n",
        "\n",
        "    \"\"\"\n",
        "    예시:\n",
        "    F F F T T\n",
        "    F F F T T\n",
        "    F F F T T\n",
        "    F F F T T\n",
        "    F F F T T\n",
        "    \"\"\"\n",
        "\n",
        "    # 현재 시점 이후의 위치에 대해 마스크 생성 (미래의 토큰을 마스킹)\n",
        "    trg_future_mask = torch.tril(torch.ones(trg.shape[0], self.n_heads, trg.shape[1], trg.shape[1])) == 0  # Shape: (batch_size, n_heads, seq_len, seq_len)\n",
        "\n",
        "    \"\"\"\n",
        "    예시:\n",
        "    F T T T T\n",
        "    F F T T T\n",
        "    F F F T T\n",
        "    F F F F T\n",
        "    F F F F F\n",
        "    \"\"\"\n",
        "\n",
        "    # 패딩 마스크와 미래 마스크를 결합하여 최종 디코더 마스크 생성\n",
        "    dec_mask = trg_pad_mask | trg_future_mask  # Shape: (batch_size, n_heads, seq_len, seq_len)\n",
        "\n",
        "    \"\"\"\n",
        "    예시:\n",
        "    F T T T T\n",
        "    F F T T T\n",
        "    F F F T T\n",
        "    F F F F T\n",
        "    F F F F F\n",
        "    \"\"\"\n",
        "    return dec_mask\n",
        "\n",
        "  def make_enc_dec_mask(self, src, trg):\n",
        "    \"\"\"\n",
        "    인코더-디코더 마스크 생성\n",
        "    src : 입력 시퀀스, Shape: (batch_size, seq_len)\n",
        "    trg : 목표 시퀀스, Shape: (batch_size, seq_len)\n",
        "    return : 인코더-디코더 마스크, Shape: (batch_size, n_heads, seq_len, seq_len)\n",
        "    \"\"\"\n",
        "\n",
        "    # 패딩 위치에 대해 True 값을 가지는 마스크 생성 (인코더와 디코더 사이의 어텐션에 사용)\n",
        "    enc_dec_mask = (src == self.pad_idx).unsqueeze(1).unsqueeze(2)  # Shape: (batch_size, 1, 1, seq_len)\n",
        "\n",
        "    # 헤드 수만큼 마스크를 반복하여 확장\n",
        "    enc_dec_mask = enc_dec_mask.repeat(1, self.n_heads, trg.shape[1], 1)  # Shape: (batch_size, n_heads, trg_seq_len, src_seq_len)\n",
        "\n",
        "    \"\"\"\n",
        "    예시:\n",
        "    F F T T\n",
        "    F F T T\n",
        "    F F T T\n",
        "    F F T T\n",
        "    F F T T\n",
        "    \"\"\"\n",
        "    return enc_dec_mask\n",
        "\n",
        "  def forward(self, src, trg):\n",
        "    \"\"\"\n",
        "      src : 입력 시퀀스, Shape: (batch_size, seq_len)\n",
        "      trg : 목표 시퀀스, Shape: (batch_size, seq_len)\n",
        "      return : 모델 출력, 인코더 어텐션 맵, 디코더 어텐션 맵, 인코더-디코더 어텐션 맵\n",
        "    \"\"\"\n",
        "\n",
        "    # 인코더 마스크 생성\n",
        "    enc_mask = self.make_enc_mask(src)\n",
        "\n",
        "    # 디코더 마스크 생성\n",
        "    dec_mask = self.make_dec_mask(trg)\n",
        "\n",
        "    # 인코더-디코더 마스크 생성\n",
        "    enc_dec_mask = self.make_enc_dec_mask(src, trg)\n",
        "\n",
        "    # 인코더 통과\n",
        "    enc_out, atten_encs = self.encoder(src, enc_mask)\n",
        "\n",
        "    # 디코더 통과\n",
        "    out, atten_decs, atten_enc_decs = self.decoder(trg, enc_out, dec_mask, enc_dec_mask)\n",
        "\n",
        "    return out, atten_encs, atten_decs, atten_enc_decs"
      ],
      "metadata": {
        "id": "dATeFtpo2UxA"
      },
      "execution_count": 82,
      "outputs": []
    },
    {
      "cell_type": "markdown",
      "source": [
        "## 7. 데이터 준비"
      ],
      "metadata": {
        "id": "tk5KEdFL2ZI9"
      }
    },
    {
      "cell_type": "code",
      "source": [
        "!gdown https://drive.google.com/uc?id=1lhmYO7ZuvxEtl-bZ-j4VepMk4WCjkvUz -O \"kor_eng_translate.xlsx\"\n"
      ],
      "metadata": {
        "colab": {
          "base_uri": "https://localhost:8080/"
        },
        "id": "KOfxLKnO2YKI",
        "outputId": "a3b3f970-5d47-4556-eed8-e3559edc6907"
      },
      "execution_count": 83,
      "outputs": [
        {
          "output_type": "stream",
          "name": "stdout",
          "text": [
            "Downloading...\n",
            "From: https://drive.google.com/uc?id=1lhmYO7ZuvxEtl-bZ-j4VepMk4WCjkvUz\n",
            "To: /content/kor_eng_translate.xlsx\n",
            "100% 9.57M/9.57M [00:00<00:00, 19.7MB/s]\n"
          ]
        }
      ]
    },
    {
      "cell_type": "code",
      "source": [
        "import pandas as pd\n",
        "\n",
        "df = pd.read_excel(\"kor_eng_translate.xlsx\")\n",
        "df.head()"
      ],
      "metadata": {
        "colab": {
          "base_uri": "https://localhost:8080/",
          "height": 310
        },
        "id": "c1CYLPQE2dGv",
        "outputId": "ecd4634f-a5c6-4d04-d88a-a396e6a9923a"
      },
      "execution_count": 84,
      "outputs": [
        {
          "output_type": "execute_result",
          "data": {
            "text/plain": [
              "    대분류 소분류       상황  Set Nr.  발화자                            원문  \\\n",
              "0  비즈니스  회의  의견 교환하기        1  A-1   이번 신제품 출시에 대한 시장의 반응은 어떤가요?   \n",
              "1  비즈니스  회의  의견 교환하기        1  B-1    판매량이 지난번 제품보다 빠르게 늘고 있습니다.   \n",
              "2  비즈니스  회의  의견 교환하기        1  A-2  그렇다면 공장에 연락해서 주문량을 더 늘려야겠네요.   \n",
              "3  비즈니스  회의  의견 교환하기        1  B-2   네, 제가 연락해서 주문량을 2배로 늘리겠습니다.   \n",
              "4  비즈니스  회의  의견 교환하기        2  A-1   지난 회의 마지막에 논의했던 안건을 다시 볼까요?   \n",
              "\n",
              "                                                 번역문  \n",
              "0  How is the market's reaction to the newly rele...  \n",
              "1  The sales increase is faster than the previous...  \n",
              "2  Then, we'll have to call the manufacturer and ...  \n",
              "3  Sure, I'll make a call and double the volume o...  \n",
              "4  Shall we take a look at the issues we discusse...  "
            ],
            "text/html": [
              "\n",
              "  <div id=\"df-9cbe96e4-7248-4737-85c4-062362107267\" class=\"colab-df-container\">\n",
              "    <div>\n",
              "<style scoped>\n",
              "    .dataframe tbody tr th:only-of-type {\n",
              "        vertical-align: middle;\n",
              "    }\n",
              "\n",
              "    .dataframe tbody tr th {\n",
              "        vertical-align: top;\n",
              "    }\n",
              "\n",
              "    .dataframe thead th {\n",
              "        text-align: right;\n",
              "    }\n",
              "</style>\n",
              "<table border=\"1\" class=\"dataframe\">\n",
              "  <thead>\n",
              "    <tr style=\"text-align: right;\">\n",
              "      <th></th>\n",
              "      <th>대분류</th>\n",
              "      <th>소분류</th>\n",
              "      <th>상황</th>\n",
              "      <th>Set Nr.</th>\n",
              "      <th>발화자</th>\n",
              "      <th>원문</th>\n",
              "      <th>번역문</th>\n",
              "    </tr>\n",
              "  </thead>\n",
              "  <tbody>\n",
              "    <tr>\n",
              "      <th>0</th>\n",
              "      <td>비즈니스</td>\n",
              "      <td>회의</td>\n",
              "      <td>의견 교환하기</td>\n",
              "      <td>1</td>\n",
              "      <td>A-1</td>\n",
              "      <td>이번 신제품 출시에 대한 시장의 반응은 어떤가요?</td>\n",
              "      <td>How is the market's reaction to the newly rele...</td>\n",
              "    </tr>\n",
              "    <tr>\n",
              "      <th>1</th>\n",
              "      <td>비즈니스</td>\n",
              "      <td>회의</td>\n",
              "      <td>의견 교환하기</td>\n",
              "      <td>1</td>\n",
              "      <td>B-1</td>\n",
              "      <td>판매량이 지난번 제품보다 빠르게 늘고 있습니다.</td>\n",
              "      <td>The sales increase is faster than the previous...</td>\n",
              "    </tr>\n",
              "    <tr>\n",
              "      <th>2</th>\n",
              "      <td>비즈니스</td>\n",
              "      <td>회의</td>\n",
              "      <td>의견 교환하기</td>\n",
              "      <td>1</td>\n",
              "      <td>A-2</td>\n",
              "      <td>그렇다면 공장에 연락해서 주문량을 더 늘려야겠네요.</td>\n",
              "      <td>Then, we'll have to call the manufacturer and ...</td>\n",
              "    </tr>\n",
              "    <tr>\n",
              "      <th>3</th>\n",
              "      <td>비즈니스</td>\n",
              "      <td>회의</td>\n",
              "      <td>의견 교환하기</td>\n",
              "      <td>1</td>\n",
              "      <td>B-2</td>\n",
              "      <td>네, 제가 연락해서 주문량을 2배로 늘리겠습니다.</td>\n",
              "      <td>Sure, I'll make a call and double the volume o...</td>\n",
              "    </tr>\n",
              "    <tr>\n",
              "      <th>4</th>\n",
              "      <td>비즈니스</td>\n",
              "      <td>회의</td>\n",
              "      <td>의견 교환하기</td>\n",
              "      <td>2</td>\n",
              "      <td>A-1</td>\n",
              "      <td>지난 회의 마지막에 논의했던 안건을 다시 볼까요?</td>\n",
              "      <td>Shall we take a look at the issues we discusse...</td>\n",
              "    </tr>\n",
              "  </tbody>\n",
              "</table>\n",
              "</div>\n",
              "    <div class=\"colab-df-buttons\">\n",
              "\n",
              "  <div class=\"colab-df-container\">\n",
              "    <button class=\"colab-df-convert\" onclick=\"convertToInteractive('df-9cbe96e4-7248-4737-85c4-062362107267')\"\n",
              "            title=\"Convert this dataframe to an interactive table.\"\n",
              "            style=\"display:none;\">\n",
              "\n",
              "  <svg xmlns=\"http://www.w3.org/2000/svg\" height=\"24px\" viewBox=\"0 -960 960 960\">\n",
              "    <path d=\"M120-120v-720h720v720H120Zm60-500h600v-160H180v160Zm220 220h160v-160H400v160Zm0 220h160v-160H400v160ZM180-400h160v-160H180v160Zm440 0h160v-160H620v160ZM180-180h160v-160H180v160Zm440 0h160v-160H620v160Z\"/>\n",
              "  </svg>\n",
              "    </button>\n",
              "\n",
              "  <style>\n",
              "    .colab-df-container {\n",
              "      display:flex;\n",
              "      gap: 12px;\n",
              "    }\n",
              "\n",
              "    .colab-df-convert {\n",
              "      background-color: #E8F0FE;\n",
              "      border: none;\n",
              "      border-radius: 50%;\n",
              "      cursor: pointer;\n",
              "      display: none;\n",
              "      fill: #1967D2;\n",
              "      height: 32px;\n",
              "      padding: 0 0 0 0;\n",
              "      width: 32px;\n",
              "    }\n",
              "\n",
              "    .colab-df-convert:hover {\n",
              "      background-color: #E2EBFA;\n",
              "      box-shadow: 0px 1px 2px rgba(60, 64, 67, 0.3), 0px 1px 3px 1px rgba(60, 64, 67, 0.15);\n",
              "      fill: #174EA6;\n",
              "    }\n",
              "\n",
              "    .colab-df-buttons div {\n",
              "      margin-bottom: 4px;\n",
              "    }\n",
              "\n",
              "    [theme=dark] .colab-df-convert {\n",
              "      background-color: #3B4455;\n",
              "      fill: #D2E3FC;\n",
              "    }\n",
              "\n",
              "    [theme=dark] .colab-df-convert:hover {\n",
              "      background-color: #434B5C;\n",
              "      box-shadow: 0px 1px 3px 1px rgba(0, 0, 0, 0.15);\n",
              "      filter: drop-shadow(0px 1px 2px rgba(0, 0, 0, 0.3));\n",
              "      fill: #FFFFFF;\n",
              "    }\n",
              "  </style>\n",
              "\n",
              "    <script>\n",
              "      const buttonEl =\n",
              "        document.querySelector('#df-9cbe96e4-7248-4737-85c4-062362107267 button.colab-df-convert');\n",
              "      buttonEl.style.display =\n",
              "        google.colab.kernel.accessAllowed ? 'block' : 'none';\n",
              "\n",
              "      async function convertToInteractive(key) {\n",
              "        const element = document.querySelector('#df-9cbe96e4-7248-4737-85c4-062362107267');\n",
              "        const dataTable =\n",
              "          await google.colab.kernel.invokeFunction('convertToInteractive',\n",
              "                                                    [key], {});\n",
              "        if (!dataTable) return;\n",
              "\n",
              "        const docLinkHtml = 'Like what you see? Visit the ' +\n",
              "          '<a target=\"_blank\" href=https://colab.research.google.com/notebooks/data_table.ipynb>data table notebook</a>'\n",
              "          + ' to learn more about interactive tables.';\n",
              "        element.innerHTML = '';\n",
              "        dataTable['output_type'] = 'display_data';\n",
              "        await google.colab.output.renderOutput(dataTable, element);\n",
              "        const docLink = document.createElement('div');\n",
              "        docLink.innerHTML = docLinkHtml;\n",
              "        element.appendChild(docLink);\n",
              "      }\n",
              "    </script>\n",
              "  </div>\n",
              "\n",
              "\n",
              "<div id=\"df-85f6a6ea-c7d1-4f65-846d-35f1e40885d4\">\n",
              "  <button class=\"colab-df-quickchart\" onclick=\"quickchart('df-85f6a6ea-c7d1-4f65-846d-35f1e40885d4')\"\n",
              "            title=\"Suggest charts\"\n",
              "            style=\"display:none;\">\n",
              "\n",
              "<svg xmlns=\"http://www.w3.org/2000/svg\" height=\"24px\"viewBox=\"0 0 24 24\"\n",
              "     width=\"24px\">\n",
              "    <g>\n",
              "        <path d=\"M19 3H5c-1.1 0-2 .9-2 2v14c0 1.1.9 2 2 2h14c1.1 0 2-.9 2-2V5c0-1.1-.9-2-2-2zM9 17H7v-7h2v7zm4 0h-2V7h2v10zm4 0h-2v-4h2v4z\"/>\n",
              "    </g>\n",
              "</svg>\n",
              "  </button>\n",
              "\n",
              "<style>\n",
              "  .colab-df-quickchart {\n",
              "      --bg-color: #E8F0FE;\n",
              "      --fill-color: #1967D2;\n",
              "      --hover-bg-color: #E2EBFA;\n",
              "      --hover-fill-color: #174EA6;\n",
              "      --disabled-fill-color: #AAA;\n",
              "      --disabled-bg-color: #DDD;\n",
              "  }\n",
              "\n",
              "  [theme=dark] .colab-df-quickchart {\n",
              "      --bg-color: #3B4455;\n",
              "      --fill-color: #D2E3FC;\n",
              "      --hover-bg-color: #434B5C;\n",
              "      --hover-fill-color: #FFFFFF;\n",
              "      --disabled-bg-color: #3B4455;\n",
              "      --disabled-fill-color: #666;\n",
              "  }\n",
              "\n",
              "  .colab-df-quickchart {\n",
              "    background-color: var(--bg-color);\n",
              "    border: none;\n",
              "    border-radius: 50%;\n",
              "    cursor: pointer;\n",
              "    display: none;\n",
              "    fill: var(--fill-color);\n",
              "    height: 32px;\n",
              "    padding: 0;\n",
              "    width: 32px;\n",
              "  }\n",
              "\n",
              "  .colab-df-quickchart:hover {\n",
              "    background-color: var(--hover-bg-color);\n",
              "    box-shadow: 0 1px 2px rgba(60, 64, 67, 0.3), 0 1px 3px 1px rgba(60, 64, 67, 0.15);\n",
              "    fill: var(--button-hover-fill-color);\n",
              "  }\n",
              "\n",
              "  .colab-df-quickchart-complete:disabled,\n",
              "  .colab-df-quickchart-complete:disabled:hover {\n",
              "    background-color: var(--disabled-bg-color);\n",
              "    fill: var(--disabled-fill-color);\n",
              "    box-shadow: none;\n",
              "  }\n",
              "\n",
              "  .colab-df-spinner {\n",
              "    border: 2px solid var(--fill-color);\n",
              "    border-color: transparent;\n",
              "    border-bottom-color: var(--fill-color);\n",
              "    animation:\n",
              "      spin 1s steps(1) infinite;\n",
              "  }\n",
              "\n",
              "  @keyframes spin {\n",
              "    0% {\n",
              "      border-color: transparent;\n",
              "      border-bottom-color: var(--fill-color);\n",
              "      border-left-color: var(--fill-color);\n",
              "    }\n",
              "    20% {\n",
              "      border-color: transparent;\n",
              "      border-left-color: var(--fill-color);\n",
              "      border-top-color: var(--fill-color);\n",
              "    }\n",
              "    30% {\n",
              "      border-color: transparent;\n",
              "      border-left-color: var(--fill-color);\n",
              "      border-top-color: var(--fill-color);\n",
              "      border-right-color: var(--fill-color);\n",
              "    }\n",
              "    40% {\n",
              "      border-color: transparent;\n",
              "      border-right-color: var(--fill-color);\n",
              "      border-top-color: var(--fill-color);\n",
              "    }\n",
              "    60% {\n",
              "      border-color: transparent;\n",
              "      border-right-color: var(--fill-color);\n",
              "    }\n",
              "    80% {\n",
              "      border-color: transparent;\n",
              "      border-right-color: var(--fill-color);\n",
              "      border-bottom-color: var(--fill-color);\n",
              "    }\n",
              "    90% {\n",
              "      border-color: transparent;\n",
              "      border-bottom-color: var(--fill-color);\n",
              "    }\n",
              "  }\n",
              "</style>\n",
              "\n",
              "  <script>\n",
              "    async function quickchart(key) {\n",
              "      const quickchartButtonEl =\n",
              "        document.querySelector('#' + key + ' button');\n",
              "      quickchartButtonEl.disabled = true;  // To prevent multiple clicks.\n",
              "      quickchartButtonEl.classList.add('colab-df-spinner');\n",
              "      try {\n",
              "        const charts = await google.colab.kernel.invokeFunction(\n",
              "            'suggestCharts', [key], {});\n",
              "      } catch (error) {\n",
              "        console.error('Error during call to suggestCharts:', error);\n",
              "      }\n",
              "      quickchartButtonEl.classList.remove('colab-df-spinner');\n",
              "      quickchartButtonEl.classList.add('colab-df-quickchart-complete');\n",
              "    }\n",
              "    (() => {\n",
              "      let quickchartButtonEl =\n",
              "        document.querySelector('#df-85f6a6ea-c7d1-4f65-846d-35f1e40885d4 button');\n",
              "      quickchartButtonEl.style.display =\n",
              "        google.colab.kernel.accessAllowed ? 'block' : 'none';\n",
              "    })();\n",
              "  </script>\n",
              "</div>\n",
              "\n",
              "    </div>\n",
              "  </div>\n"
            ],
            "application/vnd.google.colaboratory.intrinsic+json": {
              "type": "dataframe",
              "variable_name": "df",
              "summary": "{\n  \"name\": \"df\",\n  \"rows\": 100000,\n  \"fields\": [\n    {\n      \"column\": \"\\ub300\\ubd84\\ub958\",\n      \"properties\": {\n        \"dtype\": \"category\",\n        \"num_unique_values\": 5,\n        \"samples\": [\n          \"\\uc77c\\uc0c1\\ub300\\ud654\",\n          \"\\uc5ec\\ud589/\\uc1fc\\ud551\",\n          \"\\uc758\\ud559\"\n        ],\n        \"semantic_type\": \"\",\n        \"description\": \"\"\n      }\n    },\n    {\n      \"column\": \"\\uc18c\\ubd84\\ub958\",\n      \"properties\": {\n        \"dtype\": \"category\",\n        \"num_unique_values\": 59,\n        \"samples\": [\n          \"\\ud68c\\uc758\",\n          \"\\uc778\\uc0ac\",\n          \"\\ubd80\\uc11c\\ubcc4\"\n        ],\n        \"semantic_type\": \"\",\n        \"description\": \"\"\n      }\n    },\n    {\n      \"column\": \"\\uc0c1\\ud669\",\n      \"properties\": {\n        \"dtype\": \"category\",\n        \"num_unique_values\": 2779,\n        \"samples\": [\n          \"\\ubc30\\uc1a1 \\ub3c4\\ucc29 \\uc77c\\uc790\\uac00 \\uad81\\uae08\\ud55c \\uc0c1\\ud669\",\n          \"\\uc1a1\\ubcc4\\ud68c\\uac00 \\uc5b8\\uc81c\\uc778\\uc9c0 \\ubb3c\\uc5b4\\ubcf4\\ub294 \\uc0c1\\ud669\",\n          \"\\ud654\\uc7ac \\uc0c1\\ud669, \\uc2e0\\uace0, \\uae30\\ud0c0 \\uc7ac\\ub09c \\uc0c1\\ud669 (\\ud0dc\\ud48d, \\ud64d\\uc218, \\uc9c0\\uc9c4 \\ub4f1)\"\n        ],\n        \"semantic_type\": \"\",\n        \"description\": \"\"\n      }\n    },\n    {\n      \"column\": \"Set Nr.\",\n      \"properties\": {\n        \"dtype\": \"number\",\n        \"std\": 7216,\n        \"min\": 1,\n        \"max\": 25000,\n        \"num_unique_values\": 25000,\n        \"samples\": [\n          6869,\n          24017,\n          9669\n        ],\n        \"semantic_type\": \"\",\n        \"description\": \"\"\n      }\n    },\n    {\n      \"column\": \"\\ubc1c\\ud654\\uc790\",\n      \"properties\": {\n        \"dtype\": \"category\",\n        \"num_unique_values\": 4,\n        \"samples\": [\n          \"B-1\",\n          \"B-2\",\n          \"A-1\"\n        ],\n        \"semantic_type\": \"\",\n        \"description\": \"\"\n      }\n    },\n    {\n      \"column\": \"\\uc6d0\\ubb38\",\n      \"properties\": {\n        \"dtype\": \"string\",\n        \"num_unique_values\": 99987,\n        \"samples\": [\n          \"3\\uc77c \\ub4a4\\uba74 \\uad1c\\ucc2e\\uc740\\ub370, \\uba87 \\ubc15 \\uba70\\uce60\\ub85c \\uac00\\ub294 \\uc0c1\\ud488\\uc778\\uac00\\uc694?\",\n          \"\\ub124, \\uc5b4\\uc81c \\uc774 \\uc2e0\\uc6a9\\uce74\\ub4dc\\ub85c \\uacb0\\uc81c\\ud588\\uc5c8\\uc2b5\\ub2c8\\ub2e4.\",\n          \"\\uad6c\\ub9e4\\ud558\\uc2e0 \\uc9c0 \\ud558\\ub8e8\\ubc16\\uc5d0 \\uc9c0\\ub098\\uc9c0 \\uc54a\\uc558\\ub2e4\\uba74 \\ubb3c\\ub860 \\uac00\\ub2a5\\ud569\\ub2c8\\ub2e4.\"\n        ],\n        \"semantic_type\": \"\",\n        \"description\": \"\"\n      }\n    },\n    {\n      \"column\": \"\\ubc88\\uc5ed\\ubb38\",\n      \"properties\": {\n        \"dtype\": \"string\",\n        \"num_unique_values\": 99916,\n        \"samples\": [\n          \"If the company understands the circumstances, the contract is terminated immediately.\",\n          \"You used a coupon and got a 10 percent discount.\",\n          \"You are right, so please take a coffee inside of my bag and hand it to me.\"\n        ],\n        \"semantic_type\": \"\",\n        \"description\": \"\"\n      }\n    }\n  ]\n}"
            }
          },
          "metadata": {},
          "execution_count": 84
        }
      ]
    },
    {
      "cell_type": "code",
      "source": [
        "from sklearn.model_selection import train_test_split\n",
        "\n",
        "train_data, test_data = train_test_split(df, test_size=0.2, random_state=42)\n",
        "train_data, valid_data = train_test_split(train_data, test_size=0.2, random_state=42)\n",
        "\n",
        "\n",
        "train_data.shape, valid_data.shape, test_data.shape"
      ],
      "metadata": {
        "colab": {
          "base_uri": "https://localhost:8080/"
        },
        "id": "8qHLJEQG2glL",
        "outputId": "847fb493-6180-4a32-a9ad-fd1c60b7f468"
      },
      "execution_count": 85,
      "outputs": [
        {
          "output_type": "execute_result",
          "data": {
            "text/plain": [
              "((64000, 7), (16000, 7), (20000, 7))"
            ]
          },
          "metadata": {},
          "execution_count": 85
        }
      ]
    },
    {
      "cell_type": "code",
      "source": [
        "class CustomDataset(torch.utils.data.Dataset):\n",
        "    def __init__(self, data):\n",
        "        self.data = data\n",
        "\n",
        "    def __len__(self):\n",
        "        return self.data.shape[0]\n",
        "\n",
        "    def __getitem__(self, idx):\n",
        "        return self.data.iloc[idx, self.data.columns.get_loc('원문')], self.data.iloc[idx, self.data.columns.get_loc('번역문')]\n",
        "\n",
        "train_dataset = CustomDataset(train_data)\n",
        "valid_dataset = CustomDataset(valid_data)\n",
        "test_dataset = CustomDataset(test_data)\n",
        "\n",
        "train_dataset[0]"
      ],
      "metadata": {
        "colab": {
          "base_uri": "https://localhost:8080/"
        },
        "id": "PfBUXun92h5n",
        "outputId": "a0d02d5e-6074-45ff-f3b0-988151847fd8"
      },
      "execution_count": 86,
      "outputs": [
        {
          "output_type": "execute_result",
          "data": {
            "text/plain": [
              "('음료수는 콜라, 사이다 중에 어떤 걸로 하시겠어요?',\n",
              " 'Which drink would you like out of coke and soda?')"
            ]
          },
          "metadata": {},
          "execution_count": 86
        }
      ]
    },
    {
      "cell_type": "code",
      "source": [
        "BATCH_SIZE = 32\n",
        "\n",
        "train_DL = torch.utils.data.DataLoader(train_dataset, batch_size=BATCH_SIZE, shuffle=True)\n",
        "val_DL = torch.utils.data.DataLoader(valid_dataset, batch_size=BATCH_SIZE, shuffle=False)\n",
        "test_DL = torch.utils.data.DataLoader(test_dataset, batch_size=BATCH_SIZE, shuffle=False)"
      ],
      "metadata": {
        "id": "8WuGSKDE2qM7"
      },
      "execution_count": 87,
      "outputs": []
    },
    {
      "cell_type": "markdown",
      "source": [
        "## 8. Huggingface Tokenizer"
      ],
      "metadata": {
        "id": "83AiggT22tAd"
      }
    },
    {
      "cell_type": "code",
      "source": [
        "from transformers import MarianTokenizer # MT: Machine Translation\n",
        "\n",
        "tokenizer = MarianTokenizer.from_pretrained('Helsinki-NLP/opus-mt-ko-en')"
      ],
      "metadata": {
        "id": "eL-FB0kd2vfd"
      },
      "execution_count": 88,
      "outputs": []
    },
    {
      "cell_type": "markdown",
      "source": [
        "## 9. 모델 생성 및 하이퍼 파라미터 선정"
      ],
      "metadata": {
        "id": "l67gU1gx218N"
      }
    },
    {
      "cell_type": "code",
      "source": [
        "vocab_size = tokenizer.vocab_size # 인코더, 디코더에서 사용할 단어의 총 개수\n",
        "n_layers = 3\n",
        "d_model = 256\n",
        "d_ff = 512\n",
        "n_heads=8\n",
        "drop_p = 0.1"
      ],
      "metadata": {
        "id": "ZeeL1Lyf2zF1"
      },
      "execution_count": 89,
      "outputs": []
    },
    {
      "cell_type": "code",
      "source": [
        "pad_idx = tokenizer.pad_token_id\n",
        "pad_idx"
      ],
      "metadata": {
        "colab": {
          "base_uri": "https://localhost:8080/"
        },
        "id": "s0phKj4N268Q",
        "outputId": "01c673e9-c300-4dbe-ddcc-daa205b03a6b"
      },
      "execution_count": 90,
      "outputs": [
        {
          "output_type": "execute_result",
          "data": {
            "text/plain": [
              "65000"
            ]
          },
          "metadata": {},
          "execution_count": 90
        }
      ]
    },
    {
      "cell_type": "code",
      "source": [
        "# 문장의 최대 길이\n",
        "max_len = 128"
      ],
      "metadata": {
        "id": "A0ajFVL72-ZL"
      },
      "execution_count": 91,
      "outputs": []
    },
    {
      "cell_type": "code",
      "source": [
        "model = Transformer(\n",
        "    vocab_size,\n",
        "    max_len,\n",
        "    n_layers,\n",
        "    pad_idx,\n",
        "    d_model,\n",
        "    d_ff,\n",
        "    n_heads,\n",
        "    drop_p\n",
        ")\n",
        "\n",
        "model"
      ],
      "metadata": {
        "colab": {
          "base_uri": "https://localhost:8080/"
        },
        "id": "jAfyqpdx2_qe",
        "outputId": "e50fc24d-8e33-4bd6-8487-ba0160289f1b"
      },
      "execution_count": 92,
      "outputs": [
        {
          "output_type": "execute_result",
          "data": {
            "text/plain": [
              "Transformer(\n",
              "  (input_embedding): Embedding(65001, 256)\n",
              "  (encoder): Encoder(\n",
              "    (input_embeddin): Embedding(65001, 256)\n",
              "    (pos_embedding): Embedding(128, 256)\n",
              "    (dropout): Dropout(p=0.1, inplace=False)\n",
              "    (layers): ModuleList(\n",
              "      (0-2): 3 x EncoderLayer(\n",
              "        (self_atten): MHA(\n",
              "          (fc_q): Linear(in_features=256, out_features=256, bias=True)\n",
              "          (fc_k): Linear(in_features=256, out_features=256, bias=True)\n",
              "          (fc_v): Linear(in_features=256, out_features=256, bias=True)\n",
              "          (fc_o): Linear(in_features=256, out_features=256, bias=True)\n",
              "        )\n",
              "        (self_atten_LN): LayerNorm((256,), eps=1e-05, elementwise_affine=True)\n",
              "        (FF): FeedForward(\n",
              "          (linear): Sequential(\n",
              "            (0): Linear(in_features=256, out_features=512, bias=True)\n",
              "            (1): ReLU()\n",
              "            (2): Dropout(p=0.1, inplace=False)\n",
              "            (3): Linear(in_features=512, out_features=256, bias=True)\n",
              "          )\n",
              "        )\n",
              "        (FF_LN): LayerNorm((256,), eps=1e-05, elementwise_affine=True)\n",
              "        (dropout): Dropout(p=0.1, inplace=False)\n",
              "      )\n",
              "    )\n",
              "  )\n",
              "  (decoder): Decoder(\n",
              "    (input_embedding): Embedding(65001, 256)\n",
              "    (pos_embedding): Embedding(128, 256)\n",
              "    (dropout): Dropout(p=0.1, inplace=False)\n",
              "    (layers): ModuleList(\n",
              "      (0-2): 3 x DecoderLayer(\n",
              "        (self_atten): MHA(\n",
              "          (fc_q): Linear(in_features=256, out_features=256, bias=True)\n",
              "          (fc_k): Linear(in_features=256, out_features=256, bias=True)\n",
              "          (fc_v): Linear(in_features=256, out_features=256, bias=True)\n",
              "          (fc_o): Linear(in_features=256, out_features=256, bias=True)\n",
              "        )\n",
              "        (self_atten_LN): LayerNorm((256,), eps=1e-05, elementwise_affine=True)\n",
              "        (enc_dec_atten): MHA(\n",
              "          (fc_q): Linear(in_features=256, out_features=256, bias=True)\n",
              "          (fc_k): Linear(in_features=256, out_features=256, bias=True)\n",
              "          (fc_v): Linear(in_features=256, out_features=256, bias=True)\n",
              "          (fc_o): Linear(in_features=256, out_features=256, bias=True)\n",
              "        )\n",
              "        (enc_dec_atten_LN): LayerNorm((256,), eps=1e-05, elementwise_affine=True)\n",
              "        (FF): FeedForward(\n",
              "          (linear): Sequential(\n",
              "            (0): Linear(in_features=256, out_features=512, bias=True)\n",
              "            (1): ReLU()\n",
              "            (2): Dropout(p=0.1, inplace=False)\n",
              "            (3): Linear(in_features=512, out_features=256, bias=True)\n",
              "          )\n",
              "        )\n",
              "        (FF_LN): LayerNorm((256,), eps=1e-05, elementwise_affine=True)\n",
              "        (dropout): Dropout(p=0.1, inplace=False)\n",
              "      )\n",
              "    )\n",
              "    (fc_out): Linear(in_features=256, out_features=65001, bias=True)\n",
              "  )\n",
              ")"
            ]
          },
          "metadata": {},
          "execution_count": 92
        }
      ]
    },
    {
      "cell_type": "code",
      "source": [
        "from tqdm import tqdm\n",
        "import math\n",
        "\n",
        "EPOCH = 15\n",
        "save_model_path = \"transformer_model.pt\"\n",
        "save_history_path = \"transformer_history.pt\""
      ],
      "metadata": {
        "id": "tjtrhtMg3FMb"
      },
      "execution_count": 93,
      "outputs": []
    },
    {
      "cell_type": "markdown",
      "source": [
        "## 10. 모델 훈련 및 테스트"
      ],
      "metadata": {
        "id": "21-n-nou6sVT"
      }
    },
    {
      "cell_type": "code",
      "source": [
        "def Train(model, train_DL, val_DL, criterion, optimizer, scheduler = None):\n",
        "    loss_history = {\"train\": [], \"val\": []}\n",
        "    best_loss = 9999\n",
        "    for ep in range(EPOCH):\n",
        "        model.train() # train mode로 전환\n",
        "        train_loss = loss_epoch(model, train_DL, criterion, optimizer = optimizer, scheduler = scheduler)\n",
        "        loss_history[\"train\"] += [train_loss]\n",
        "\n",
        "        model.eval() # test mode로 전환\n",
        "        with torch.no_grad():\n",
        "            val_loss = loss_epoch(model, val_DL, criterion)\n",
        "            loss_history[\"val\"] += [val_loss]\n",
        "            if val_loss < best_loss:\n",
        "                best_loss = val_loss\n",
        "                torch.save({\"model\": model,\n",
        "                            \"ep\": ep,\n",
        "                            \"optimizer\": optimizer,\n",
        "                            \"scheduler\": scheduler,}, save_model_path)\n",
        "        # print loss\n",
        "        print(f\"Epoch {ep+1}: train loss: {train_loss:.5f}   val loss: {val_loss:.5f}   current_LR: {optimizer.param_groups[0]['lr']:.8f}\")\n",
        "        print(\"-\" * 20)\n",
        "\n",
        "    torch.save({\"loss_history\": loss_history,\n",
        "                \"EPOCH\": EPOCH,\n",
        "                \"BATCH_SIZE\": BATCH_SIZE}, save_history_path)"
      ],
      "metadata": {
        "id": "mlyw_5sc3Iww"
      },
      "execution_count": 94,
      "outputs": []
    },
    {
      "cell_type": "code",
      "source": [
        "def Test(model, test_DL, criterion):\n",
        "    model.eval() # test mode로 전환\n",
        "    with torch.no_grad():\n",
        "        test_loss = loss_epoch(model, test_DL, criterion)\n",
        "    print(f\"Test loss: {test_loss:.3f} | Test PPL: {math.exp(test_loss):.3f}\")"
      ],
      "metadata": {
        "id": "vDOjFGJP3SeZ"
      },
      "execution_count": 95,
      "outputs": []
    },
    {
      "cell_type": "code",
      "source": [
        "def loss_epoch(model, DL, criterion, optimizer = None, scheduler = None):\n",
        "    N = len(DL.dataset) # the number of data\n",
        "\n",
        "    rloss=0\n",
        "    for src_texts, trg_texts in tqdm(DL, leave=False):\n",
        "        src = tokenizer(src_texts, padding=True, truncation=True, max_length = max_len, return_tensors='pt').input_ids.to(DEVICE)\n",
        "        trg_texts = ['</s> ' + s for s in trg_texts]\n",
        "        trg = tokenizer(trg_texts, padding=True, truncation=True, max_length = max_len, return_tensors='pt').input_ids.to(DEVICE)\n",
        "        # inference\n",
        "        y_hat = model(src, trg[:,:-1])[0] # 모델 통과 시킬 땐 trg의 마지막 토큰은 제외 : 마지막 단어는 모델이 스스로 맞혀야 함\n",
        "        # loss\n",
        "        loss = criterion(y_hat.permute(0,2,1), trg[:,1:]) # loss 계산 시엔 <sos> 는 제외\n",
        "        # update\n",
        "        if optimizer is not None:\n",
        "            optimizer.zero_grad()\n",
        "            loss.backward()\n",
        "            optimizer.step()\n",
        "        if scheduler is not None:\n",
        "            scheduler.step()\n",
        "        # loss accumulation\n",
        "        loss_b = loss.item() * src.shape[0]\n",
        "        rloss += loss_b\n",
        "    loss_e = rloss/N\n",
        "    return loss_e"
      ],
      "metadata": {
        "id": "DjoZqz5t3S3C"
      },
      "execution_count": 96,
      "outputs": []
    },
    {
      "cell_type": "code",
      "source": [
        "def count_params(model):\n",
        "    num = sum([p.numel() for p in model.parameters() if p.requires_grad])\n",
        "    return num"
      ],
      "metadata": {
        "id": "cl3qDXOh3hYd"
      },
      "execution_count": 97,
      "outputs": []
    },
    {
      "cell_type": "code",
      "source": [
        "# learning rate를 자동으로 조절하는 스케줄러\n",
        "class NoamScheduler:\n",
        "    def __init__(self, optimizer, d_model, warmup_steps, LR_scale = 1):\n",
        "        self.optimizer = optimizer\n",
        "        self.current_step = 0\n",
        "        self.d_model = d_model\n",
        "        self.warmup_steps = warmup_steps\n",
        "        self.LR_scale = LR_scale\n",
        "\n",
        "    def step(self):\n",
        "        self.current_step += 1\n",
        "        lrate = self.LR_scale * (self.d_model ** -0.5) * min(self.current_step ** -0.5, self.current_step * self.warmup_steps ** -1.5)\n",
        "        self.optimizer.param_groups[0]['lr'] = lrate"
      ],
      "metadata": {
        "id": "X0jSnn7D3nbj"
      },
      "execution_count": 98,
      "outputs": []
    },
    {
      "cell_type": "code",
      "source": [
        "def plot_scheduler(scheduler_name, optimizer, scheduler, total_steps): # LR curve 보기\n",
        "    lr_history = []\n",
        "    steps = range(1, total_steps)\n",
        "\n",
        "    for _ in steps: # base model -> 10만 steps (12시간), big model -> 30만 steps (3.5일) 로 훈련했다고 함\n",
        "        lr_history += [optimizer.param_groups[0]['lr']]\n",
        "        scheduler.step()\n",
        "\n",
        "    plt.figure()\n",
        "    if scheduler_name == 'Noam':\n",
        "        if total_steps == 100000:\n",
        "            plt.plot(steps, (512 ** -0.5) * torch.tensor(steps) ** -0.5, 'g--', linewidth=1, label=r\"$d_{\\mathrm{model}}^{-0.5} \\cdot \\mathrm{step}^{-0.5}$\")\n",
        "            plt.plot(steps, (512 ** -0.5) * torch.tensor(steps) * 4000 ** -1.5, 'r--', linewidth=1, label=r\"$d_{\\mathrm{model}}^{-0.5} \\cdot \\mathrm{step} \\cdot \\mathrm{warmup\\_steps}^{-1.5}$\")\n",
        "        plt.plot(steps, lr_history, 'b', linewidth=2, alpha=0.8, label=\"Learning Rate\")\n",
        "    elif scheduler_name == 'Cos':\n",
        "        plt.plot(steps, lr_history, 'b', linewidth=2, alpha=0.8, label=\"Learning Rate\")\n",
        "    plt.ylim([-0.1*max(lr_history), 1.2*max(lr_history)])\n",
        "    plt.xlabel('Step')\n",
        "    plt.ylabel('Learning Rate')\n",
        "    plt.grid()\n",
        "    plt.legend()\n",
        "    plt.show()"
      ],
      "metadata": {
        "id": "SHh8zkgF3yx5"
      },
      "execution_count": 99,
      "outputs": []
    },
    {
      "cell_type": "code",
      "source": [
        "from torch import nn, optim\n",
        "from torch.optim.lr_scheduler import CosineAnnealingWarmRestarts\n",
        "\n",
        "criterion = nn.CrossEntropyLoss(ignore_index = pad_idx) # pad token 이 출력 나와야하는 시점의 loss는 무시 (즉, label이 <pad> 일 때는 무시) # 저장된 모델\n",
        "\n",
        "scheduler_name = 'Noam'\n",
        "\n",
        "#### Noam ####\n",
        "# warmup_steps = 4000 # 이건 논문에서 제시한 값 (총 10만 step의 4%)\n",
        "warmup_steps = 1500 # 데이터 수 * EPOCH / BS = 총 step 수 인것 고려 # 저장된 모델\n",
        "LR_scale = 0.5 # Noam scheduler에 peak LR 값 조절을 위해 곱해질 녀석 # 저장된 모델\n",
        "\n",
        "\n",
        "\n",
        "optimizer = optim.Adam(nn.Linear(1, 1).parameters(), lr=0) # 테스트용 optimizer\n",
        "scheduler = NoamScheduler(optimizer, d_model=512, warmup_steps=4000) # 논문 값\n",
        "plot_scheduler(scheduler_name = 'Noam', optimizer = optimizer, scheduler = scheduler, total_steps = 100000)\n",
        "\n"
      ],
      "metadata": {
        "colab": {
          "base_uri": "https://localhost:8080/",
          "height": 449
        },
        "id": "5RKVRnJq30hH",
        "outputId": "897cdb09-1bad-4b3d-ffdc-895145452a83"
      },
      "execution_count": 100,
      "outputs": [
        {
          "output_type": "display_data",
          "data": {
            "text/plain": [
              "<Figure size 640x480 with 1 Axes>"
            ],
            "image/png": "[encoded data removed]"
          },
          "metadata": {}
        }
      ]
    },
    {
      "cell_type": "code",
      "source": [
        "optimizer = optim.Adam(nn.Linear(1, 1).parameters(), lr=0)\n",
        "scheduler = NoamScheduler(optimizer, d_model=d_model, warmup_steps=warmup_steps, LR_scale=LR_scale)\n",
        "plot_scheduler(scheduler_name = 'Noam', optimizer = optimizer, scheduler = scheduler, total_steps = int(len(train_dataset)*EPOCH/BATCH_SIZE)) # 내 상황\n"
      ],
      "metadata": {
        "colab": {
          "base_uri": "https://localhost:8080/",
          "height": 449
        },
        "id": "s30ieUHf36qd",
        "outputId": "dc247af0-0152-4615-c47f-6f4d34673d93"
      },
      "execution_count": 101,
      "outputs": [
        {
          "output_type": "display_data",
          "data": {
            "text/plain": [
              "<Figure size 640x480 with 1 Axes>"
            ],
            "image/png": "[encoded data removed]"
          },
          "metadata": {}
        }
      ]
    },
    {
      "cell_type": "markdown",
      "source": [
        "### 그래프 해석\n",
        "- X축 : 학습 단계\n",
        "- Y축 : Learning rate   \n",
        "- 초기\n",
        "  - 학습률이 0에서 시작해 일정한 속도로 점차 증가한다\n",
        "  - 안정적으로 학습을 시작하도록 점진적으로 값을 조정한 결과\n",
        "- 최대 학습률 도달\n",
        "  - 약 1,500step에서 최대치(0.0008 근처)에 도달  \n",
        "  - 모델이 충분히 안정화된 상태로 학습할 준비가 되었다\n",
        "- 학습률 감소\n",
        "  - 학습이 진행되면서 모델이 더 세부적인 패턴을 학습해야 하므로, 학습률을 낮춰서 안정적으로 가중치를 조정하도록 설계됨\n",
        "- 후반\n",
        "  - 학습이 끝날 때까지 학습률을 낮은 값을 유지하며, 모델이 세세한 부분까지 학습할 수 있도록 도와줌"
      ],
      "metadata": {
        "id": "xYFmkQaH4m7n"
      }
    },
    {
      "cell_type": "code",
      "source": [
        "# 모델 훈련\n",
        "if train_model:\n",
        "  scheduler_name = \"Noam\"\n",
        "  LAMBDA = 0\n",
        "\n",
        "  params = [p for p in model.parameters() if p.requires_grad]\n",
        "  optimizer = optim.Adam(params, lr=0,\n",
        "                         betas=(0.9, 0.98), eps=1e-9,\n",
        "                         weight_decay=LAMBDA)\n",
        "  scheduler = NoamScheduler(optimizer, d_model=d_model, warmup_steps=warmup_steps, LR_scale=LR_scale)\n",
        "\n",
        "  Train(model, train_DL, val_DL, criterion, optimizer, scheduler)\n",
        "else:\n",
        "    # history\n",
        "  !gdown https://drive.google.com/uc?id=1y0-en7DvjnFK2C6kKEB0vJE28Q6myfXJ -O \"transformer_history.pt\"\n",
        "\n",
        "  # model\n",
        "  !gdown https://drive.google.com/uc?id=1nTelDOKPWf6qW1fzYsYfyNTVQpWz5Nj_ -O \"transformer_model.pt\""
      ],
      "metadata": {
        "colab": {
          "base_uri": "https://localhost:8080/"
        },
        "id": "c_sBpQqv39Ak",
        "outputId": "aeb03fda-b2f6-4d64-e0b5-5142cb6a8241"
      },
      "execution_count": 102,
      "outputs": [
        {
          "output_type": "stream",
          "name": "stdout",
          "text": [
            "Downloading...\n",
            "From: https://drive.google.com/uc?id=1y0-en7DvjnFK2C6kKEB0vJE28Q6myfXJ\n",
            "To: /content/transformer_history.pt\n",
            "100% 1.23k/1.23k [00:00<00:00, 6.95MB/s]\n",
            "Downloading...\n",
            "From (original): https://drive.google.com/uc?id=1nTelDOKPWf6qW1fzYsYfyNTVQpWz5Nj_\n",
            "From (redirected): https://drive.google.com/uc?id=1nTelDOKPWf6qW1fzYsYfyNTVQpWz5Nj_&confirm=t&uuid=1a05536f-e8a5-4370-a115-583e5d9f9cf5\n",
            "To: /content/transformer_model.pt\n",
            "100% 449M/449M [00:08<00:00, 55.5MB/s]\n"
          ]
        }
      ]
    },
    {
      "cell_type": "markdown",
      "source": [
        "## 11. 저장된 모델 불러오기"
      ],
      "metadata": {
        "id": "YCMjO2ZK6v99"
      }
    },
    {
      "cell_type": "code",
      "source": [
        "loaded = torch.load(save_model_path, map_location=DEVICE)\n",
        "load_model = loaded[\"model\"]\n",
        "ep = loaded[\"ep\"]\n",
        "optimizer = loaded[\"optimizer\"]\n",
        "\n",
        "loaded = torch.load(save_history_path, map_location=DEVICE)\n",
        "loss_history = loaded[\"loss_history\"]\n",
        "\n",
        "print(ep)\n",
        "print(optimizer)"
      ],
      "metadata": {
        "colab": {
          "base_uri": "https://localhost:8080/"
        },
        "id": "1s5sQW9M6jHv",
        "outputId": "05435cfa-a96c-407b-e330-4ab696ddfcd4"
      },
      "execution_count": 103,
      "outputs": [
        {
          "output_type": "stream",
          "name": "stderr",
          "text": [
            "<ipython-input-103-c96f6b8a1623>:1: FutureWarning: You are using `torch.load` with `weights_only=False` (the current default value), which uses the default pickle module implicitly. It is possible to construct malicious pickle data which will execute arbitrary code during unpickling (See https://github.com/pytorch/pytorch/blob/main/SECURITY.md#untrusted-models for more details). In a future release, the default value for `weights_only` will be flipped to `True`. This limits the functions that could be executed during unpickling. Arbitrary objects will no longer be allowed to be loaded via this mode unless they are explicitly allowlisted by the user via `torch.serialization.add_safe_globals`. We recommend you start setting `weights_only=True` for any use case where you don't have full control of the loaded file. Please open an issue on GitHub for any issues related to this experimental feature.\n",
            "  loaded = torch.load(save_model_path, map_location=DEVICE)\n"
          ]
        },
        {
          "output_type": "stream",
          "name": "stdout",
          "text": [
            "14\n",
            "Adam (\n",
            "Parameter Group 0\n",
            "    amsgrad: False\n",
            "    betas: (0.9, 0.98)\n",
            "    capturable: False\n",
            "    differentiable: False\n",
            "    eps: 1e-09\n",
            "    foreach: None\n",
            "    fused: None\n",
            "    initial_lr: 0.0005\n",
            "    lr: 0.00038889255825490053\n",
            "    maximize: False\n",
            "    weight_decay: 0\n",
            ")\n"
          ]
        },
        {
          "output_type": "stream",
          "name": "stderr",
          "text": [
            "<ipython-input-103-c96f6b8a1623>:6: FutureWarning: You are using `torch.load` with `weights_only=False` (the current default value), which uses the default pickle module implicitly. It is possible to construct malicious pickle data which will execute arbitrary code during unpickling (See https://github.com/pytorch/pytorch/blob/main/SECURITY.md#untrusted-models for more details). In a future release, the default value for `weights_only` will be flipped to `True`. This limits the functions that could be executed during unpickling. Arbitrary objects will no longer be allowed to be loaded via this mode unless they are explicitly allowlisted by the user via `torch.serialization.add_safe_globals`. We recommend you start setting `weights_only=True` for any use case where you don't have full control of the loaded file. Please open an issue on GitHub for any issues related to this experimental feature.\n",
            "  loaded = torch.load(save_history_path, map_location=DEVICE)\n"
          ]
        }
      ]
    },
    {
      "cell_type": "code",
      "source": [
        "plt.figure()\n",
        "plt.plot(range(1, EPOCH+1), loss_history[\"train\"], label=\"train\")\n",
        "plt.plot(range(1, EPOCH+1), loss_history[\"val\"], label=\"val\")\n",
        "plt.xlabel(\"Epoch\")\n",
        "plt.ylabel(\"Loss\")\n",
        "plt.title(\"Train, Val Loss\")\n",
        "plt.grid()\n",
        "plt.legend()"
      ],
      "metadata": {
        "colab": {
          "base_uri": "https://localhost:8080/",
          "height": 489
        },
        "id": "bWa_HoEp7MBR",
        "outputId": "2afee6ab-89ed-4f5a-b1bd-0c4d8ead5d4b"
      },
      "execution_count": 104,
      "outputs": [
        {
          "output_type": "execute_result",
          "data": {
            "text/plain": [
              "<matplotlib.legend.Legend at 0x7f7fea219ba0>"
            ]
          },
          "metadata": {},
          "execution_count": 104
        },
        {
          "output_type": "display_data",
          "data": {
            "text/plain": [
              "<Figure size 640x480 with 1 Axes>"
            ],
            "image/png": "[encoded data removed]"
          },
          "metadata": {}
        }
      ]
    },
    {
      "cell_type": "code",
      "source": [
        "\n",
        "Test(load_model, test_DL, criterion)\n",
        "count_params(load_model)"
      ],
      "metadata": {
        "colab": {
          "base_uri": "https://localhost:8080/"
        },
        "id": "HHfV0WEc7h8h",
        "outputId": "715e14c3-14d0-4de1-f61d-470afff2a04c"
      },
      "execution_count": 105,
      "outputs": [
        {
          "output_type": "stream",
          "name": "stderr",
          "text": [
            "                                                 "
          ]
        },
        {
          "output_type": "stream",
          "name": "stdout",
          "text": [
            "Test loss: 7.126 | Test PPL: 1243.876\n"
          ]
        },
        {
          "output_type": "stream",
          "name": "stderr",
          "text": [
            "\r"
          ]
        },
        {
          "output_type": "execute_result",
          "data": {
            "text/plain": [
              "37364713"
            ]
          },
          "metadata": {},
          "execution_count": 105
        }
      ]
    },
    {
      "cell_type": "markdown",
      "source": [],
      "metadata": {
        "id": "J2-KanOyAbuI"
      }
    },
    {
      "cell_type": "code",
      "source": [
        "# 번역 함수\n",
        "def translation(model, src_text, atten_map_save=False):\n",
        "  model.eval()\n",
        "  with torch.no_grad():\n",
        "    src = tokenizer.encode(src_text, return_tensors='pt').to(DEVICE)\n",
        "    enc_mask = model.make_enc_mask(src)\n",
        "    enc_out, atten_encs = model.encoder(src, enc_mask, atten_map_save)\n",
        "\n",
        "    pred = tokenizer.encode('</s>',return_tensors='pt',add_special_tokens=False).to(DEVICE)\n",
        "    for _ in range(max_len-1):\n",
        "      dec_mask=model.make_dec_mask(pred)\n",
        "      enc_dec_mask=model.make_enc_dec_mask(src, pred)\n",
        "      out, atten_decs, atten_enc_decs = model.decoder(pred, enc_out, dec_mask, enc_dec_mask, atten_map_save)\n",
        "      pred_word = out.argmax(dim=2)[:, -1].unsqueeze(0)\n",
        "      pred = torch.cat([pred, pred_word],dim=1)\n",
        "\n",
        "      if tokenizer.decode(pred_word.item()) == '</s>':\n",
        "        break\n",
        "\n",
        "    translated_text = tokenizer.decode(pred[0])\n",
        "\n",
        "  return translated_text, atten_encs, atten_decs, atten_enc_decs"
      ],
      "metadata": {
        "id": "qOwvUZxx7rSN"
      },
      "execution_count": 112,
      "outputs": []
    },
    {
      "cell_type": "code",
      "source": [
        "# Attention 시각화\n",
        "def show_attention(atten, Query, Key, n):\n",
        "  atten = atten.cpu()\n",
        "\n",
        "  fig, ax = plt.subplots(nrows=1, ncols=3, figsize=[atten.shape[3]*1.5, atten.shape[2]])\n",
        "  for i in range(3):\n",
        "    ax[i].set_yticks(range(atten.shape[2]))\n",
        "    ax[i].set_yticklabels(Query, rotation=45)\n",
        "    ax[i].set_xticks(range(atten.shape[3]))\n",
        "    ax[i].set_xticklabels(Key, rotation=60)\n",
        "    ax[i].imshow(atten[n][i], cmap='bone') # n 번째 layer, 앞 세 개의 헤드만 plot"
      ],
      "metadata": {
        "id": "shbhKSUeBpTV"
      },
      "execution_count": 113,
      "outputs": []
    },
    {
      "cell_type": "code",
      "source": [
        "src_text = \"오늘 날씨는 비가 오다가 맑아졌습니다.\"\n",
        "trg_text = \"The weather today is rainy and then clear.\"\n",
        "print(f\"입력: {src_text}\")\n",
        "print(f\"정답: {trg_text}\")\n",
        "\n",
        "translated_text, atten_encs, atten_decs, atten_enc_decs = translation(load_model, src_text, atten_map_save = True)\n",
        "print(f\"AI의 번역: {translated_text}\")"
      ],
      "metadata": {
        "colab": {
          "base_uri": "https://localhost:8080/"
        },
        "id": "uwJnJOloC8wj",
        "outputId": "d316feff-1211-4b80-a81e-16d55191e90e"
      },
      "execution_count": 115,
      "outputs": [
        {
          "output_type": "stream",
          "name": "stdout",
          "text": [
            "입력: 오늘 날씨는 비가 오다가 맑아졌습니다.\n",
            "정답: The weather today is rainy and then clear.\n",
            "AI의 번역: </s> rather zs we Msusood relelelelelele himly hims himslyusss Rivoodivsoodtsivivivivivadsadtsivadtsivadtsivadtsivadtsivadtsivadtsivadtsivadtsivadtsivadtttttttttadttadtadtadttadtadttadtadtadtadtadtadtadtadtadtadtadtadtadtadtadtad\n"
          ]
        }
      ]
    },
    {
      "cell_type": "code",
      "source": [
        "src_text = \"다음주 목요일부터 날씨가 급격하게 추워집니다.\"\n",
        "trg_text = \"The weather will drop significantly starting next Thursday.\"\n",
        "\n",
        "translated_text, atten_encs, atten_ecs, atten_enc_decs = translation(load_model, src_text, atten_map_save = True)\n",
        "\n",
        "print(f\"입력 : {src_text}\")\n",
        "print(f\"정답 : {trg_text}\")\n",
        "print(f\"AI번역 : {translated_text}\")"
      ],
      "metadata": {
        "colab": {
          "base_uri": "https://localhost:8080/"
        },
        "id": "JBdCXIjZCHYJ",
        "outputId": "1c4e5827-de8d-4248-a7ee-86dc4113c917"
      },
      "execution_count": 114,
      "outputs": [
        {
          "output_type": "stream",
          "name": "stdout",
          "text": [
            "입력 : 다음주 목요일부터 날씨가 급격하게 추워집니다.\n",
            "정답 : The weather will drop significantly starting next Thursday.\n",
            "AI번역 : </s> ThThThThThThThThThThThThThThThThThThtockingtTh.ings cock cock cock cock cock cock cock cockockock cockock cingingingingingingususususususususususussusussussussussussussussussussussussssssssssssssssssssssssssssssssssssssss\n"
          ]
        }
      ]
    },
    {
      "cell_type": "markdown",
      "source": [
        "## 12. Self-Attention 확인"
      ],
      "metadata": {
        "id": "pof-5c8VDPkZ"
      }
    },
    {
      "cell_type": "code",
      "source": [
        "print(\"atten_encs shape:\", atten_encs.shape)\n",
        "print(\"atten_decs shape:\", atten_decs.shape)\n",
        "print(\"atten_enc_decs shape:\", atten_enc_decs.shape)\n"
      ],
      "metadata": {
        "colab": {
          "base_uri": "https://localhost:8080/"
        },
        "id": "JIrNNIW3Dkgm",
        "outputId": "bd2a1aa2-3b74-4e97-bf0a-d9dbfe2cef2f"
      },
      "execution_count": 117,
      "outputs": [
        {
          "output_type": "stream",
          "name": "stdout",
          "text": [
            "atten_encs shape: torch.Size([1, 8, 12, 12])\n",
            "atten_decs shape: torch.Size([3, 8, 127, 127])\n",
            "atten_enc_decs shape: torch.Size([3, 8, 127, 12])\n"
          ]
        }
      ]
    },
    {
      "cell_type": "code",
      "source": [
        "print(\"enc_input:\", enc_input)\n",
        "print(\"dec_input:\", dec_input)\n",
        "print(\"dec_output:\", dec_output)\n"
      ],
      "metadata": {
        "colab": {
          "base_uri": "https://localhost:8080/"
        },
        "id": "RDKlG0uODqjq",
        "outputId": "adaccc3c-e67e-4360-d8e9-e24731b24e11"
      },
      "execution_count": 118,
      "outputs": [
        {
          "output_type": "stream",
          "name": "stdout",
          "text": [
            "enc_input: ['▁오늘', '▁날씨', '는', '▁비가', '▁오', '다가', '▁', '맑', '아', '졌습니다', '.', '</s>']\n",
            "dec_input: ['</s>', '▁r', 'ather', '▁z', 's', '▁we', '▁M', 's', 'us', 'ood', '▁re', 'le', 'le', 'le', 'le', 'le', 'le', '▁him', 'ly', '▁him', 's', '▁him', 's', 'ly', 'us', 's', 's', '▁R', 'iv', 'ood', 'iv', 's', 'ood', 'ts', 'iv', 'iv', 'iv', 'iv', 'iv', 'ad', 's', 'ad', 'ts', 'iv', 'ad', 'ts', 'iv', 'ad', 'ts', 'iv', 'ad', 'ts', 'iv', 'ad', 'ts', 'iv', 'ad', 'ts', 'iv', 'ad', 'ts', 'iv', 'ad', 'ts', 'iv', 'ad', 'ts', 'iv', 'ad', 'ts', 'iv', 'ad', 'tt', 'tt', 'tt', 'tt', 't', 'ad', 'tt', 'ad', 't', 'ad', 't', 'ad', 'tt', 'ad', 't', 'ad', 'tt', 'ad', 't', 'ad', 't', 'ad', 't', 'ad', 't', 'ad', 't', 'ad', 't', 'ad', 't', 'ad', 't', 'ad', 't', 'ad', 't', 'ad', 't', 'ad', 't', 'ad', 't', 'ad', 't', 'ad', 't']\n",
            "dec_output: ['▁r', 'ather', '▁z', 's', '▁we', '▁M', 's', 'us', 'ood', '▁re', 'le', 'le', 'le', 'le', 'le', 'le', '▁him', 'ly', '▁him', 's', '▁him', 's', 'ly', 'us', 's', 's', '▁R', 'iv', 'ood', 'iv', 's', 'ood', 'ts', 'iv', 'iv', 'iv', 'iv', 'iv', 'ad', 's', 'ad', 'ts', 'iv', 'ad', 'ts', 'iv', 'ad', 'ts', 'iv', 'ad', 'ts', 'iv', 'ad', 'ts', 'iv', 'ad', 'ts', 'iv', 'ad', 'ts', 'iv', 'ad', 'ts', 'iv', 'ad', 'ts', 'iv', 'ad', 'ts', 'iv', 'ad', 'tt', 'tt', 'tt', 'tt', 't', 'ad', 'tt', 'ad', 't', 'ad', 't', 'ad', 'tt', 'ad', 't', 'ad', 'tt', 'ad', 't', 'ad', 't', 'ad', 't', 'ad', 't', 'ad', 't', 'ad', 't', 'ad', 't', 'ad', 't', 'ad', 't', 'ad', 't', 'ad', 't', 'ad', 't', 'ad', 't', 'ad', 't', 'ad', 't', 'ad']\n"
          ]
        }
      ]
    },
    {
      "cell_type": "code",
      "source": [
        "enc_input = tokenizer.tokenize(src_text+' </s>') # <eos> 붙여서 학습 시켰기 때문에 여기도 붙여줘야\n",
        "dec_tokens = tokenizer.tokenize(translated_text)\n",
        "dec_input = dec_tokens[:-1] # 디코더 입력으로 들어가는 문장(sos 는 있고 eos는 없고)\n",
        "dec_output = dec_tokens[1:] # 디코더 출력으로 나간 문장\n",
        "\n",
        "show_attention(atten_encs, enc_input, enc_input, n = 1) # 백화점 1층은 사원 헤드 (두루두루) 2층은 부장 헤드 3층은 임원 헤드\n",
        "show_attention(atten_decs, dec_input, dec_input, n = 1)\n",
        "show_attention(atten_enc_decs, dec_output, enc_input, n = 1) # 이 map을 해석할 때는 \"이 단어가 나오게끔 뭘 주목했느냐\" 로 해석해줘야 함 (ytick에 들어가는 단어가 아닌 예측한 단어를 썼기 때문)"
      ],
      "metadata": {
        "colab": {
          "base_uri": "https://localhost:8080/",
          "height": 1000
        },
        "id": "68qykM3UCwwZ",
        "outputId": "95794890-4c90-413a-edcb-b33fee580924"
      },
      "execution_count": 116,
      "outputs": [
        {
          "output_type": "error",
          "ename": "IndexError",
          "evalue": "index 1 is out of bounds for dimension 0 with size 1",
          "traceback": [
            "\u001b[0;31m---------------------------------------------------------------------------\u001b[0m",
            "\u001b[0;31mIndexError\u001b[0m                                Traceback (most recent call last)",
            "\u001b[0;32m<ipython-input-116-f940f60bfe72>\u001b[0m in \u001b[0;36m<cell line: 6>\u001b[0;34m()\u001b[0m\n\u001b[1;32m      4\u001b[0m \u001b[0mdec_output\u001b[0m \u001b[0;34m=\u001b[0m \u001b[0mdec_tokens\u001b[0m\u001b[0;34m[\u001b[0m\u001b[0;36m1\u001b[0m\u001b[0;34m:\u001b[0m\u001b[0;34m]\u001b[0m \u001b[0;31m# 디코더 출력으로 나간 문장\u001b[0m\u001b[0;34m\u001b[0m\u001b[0;34m\u001b[0m\u001b[0m\n\u001b[1;32m      5\u001b[0m \u001b[0;34m\u001b[0m\u001b[0m\n\u001b[0;32m----> 6\u001b[0;31m \u001b[0mshow_attention\u001b[0m\u001b[0;34m(\u001b[0m\u001b[0matten_encs\u001b[0m\u001b[0;34m,\u001b[0m \u001b[0menc_input\u001b[0m\u001b[0;34m,\u001b[0m \u001b[0menc_input\u001b[0m\u001b[0;34m,\u001b[0m \u001b[0mn\u001b[0m \u001b[0;34m=\u001b[0m \u001b[0;36m1\u001b[0m\u001b[0;34m)\u001b[0m \u001b[0;31m# 백화점 1층은 사원 헤드 (두루두루) 2층은 부장 헤드 3층은 임원 헤드\u001b[0m\u001b[0;34m\u001b[0m\u001b[0;34m\u001b[0m\u001b[0m\n\u001b[0m\u001b[1;32m      7\u001b[0m \u001b[0mshow_attention\u001b[0m\u001b[0;34m(\u001b[0m\u001b[0matten_decs\u001b[0m\u001b[0;34m,\u001b[0m \u001b[0mdec_input\u001b[0m\u001b[0;34m,\u001b[0m \u001b[0mdec_input\u001b[0m\u001b[0;34m,\u001b[0m \u001b[0mn\u001b[0m \u001b[0;34m=\u001b[0m \u001b[0;36m1\u001b[0m\u001b[0;34m)\u001b[0m\u001b[0;34m\u001b[0m\u001b[0;34m\u001b[0m\u001b[0m\n\u001b[1;32m      8\u001b[0m \u001b[0mshow_attention\u001b[0m\u001b[0;34m(\u001b[0m\u001b[0matten_enc_decs\u001b[0m\u001b[0;34m,\u001b[0m \u001b[0mdec_output\u001b[0m\u001b[0;34m,\u001b[0m \u001b[0menc_input\u001b[0m\u001b[0;34m,\u001b[0m \u001b[0mn\u001b[0m \u001b[0;34m=\u001b[0m \u001b[0;36m1\u001b[0m\u001b[0;34m)\u001b[0m \u001b[0;31m# 이 map을 해석할 때는 \"이 단어가 나오게끔 뭘 주목했느냐\" 로 해석해줘야 함 (ytick에 들어가는 단어가 아닌 예측한 단어를 썼기 때문)\u001b[0m\u001b[0;34m\u001b[0m\u001b[0;34m\u001b[0m\u001b[0m\n",
            "\u001b[0;32m<ipython-input-113-0e11fc69d3f9>\u001b[0m in \u001b[0;36mshow_attention\u001b[0;34m(atten, Query, Key, n)\u001b[0m\n\u001b[1;32m      9\u001b[0m     \u001b[0max\u001b[0m\u001b[0;34m[\u001b[0m\u001b[0mi\u001b[0m\u001b[0;34m]\u001b[0m\u001b[0;34m.\u001b[0m\u001b[0mset_xticks\u001b[0m\u001b[0;34m(\u001b[0m\u001b[0mrange\u001b[0m\u001b[0;34m(\u001b[0m\u001b[0matten\u001b[0m\u001b[0;34m.\u001b[0m\u001b[0mshape\u001b[0m\u001b[0;34m[\u001b[0m\u001b[0;36m3\u001b[0m\u001b[0;34m]\u001b[0m\u001b[0;34m)\u001b[0m\u001b[0;34m)\u001b[0m\u001b[0;34m\u001b[0m\u001b[0;34m\u001b[0m\u001b[0m\n\u001b[1;32m     10\u001b[0m     \u001b[0max\u001b[0m\u001b[0;34m[\u001b[0m\u001b[0mi\u001b[0m\u001b[0;34m]\u001b[0m\u001b[0;34m.\u001b[0m\u001b[0mset_xticklabels\u001b[0m\u001b[0;34m(\u001b[0m\u001b[0mKey\u001b[0m\u001b[0;34m,\u001b[0m \u001b[0mrotation\u001b[0m\u001b[0;34m=\u001b[0m\u001b[0;36m60\u001b[0m\u001b[0;34m)\u001b[0m\u001b[0;34m\u001b[0m\u001b[0;34m\u001b[0m\u001b[0m\n\u001b[0;32m---> 11\u001b[0;31m     \u001b[0max\u001b[0m\u001b[0;34m[\u001b[0m\u001b[0mi\u001b[0m\u001b[0;34m]\u001b[0m\u001b[0;34m.\u001b[0m\u001b[0mimshow\u001b[0m\u001b[0;34m(\u001b[0m\u001b[0matten\u001b[0m\u001b[0;34m[\u001b[0m\u001b[0mn\u001b[0m\u001b[0;34m]\u001b[0m\u001b[0;34m[\u001b[0m\u001b[0mi\u001b[0m\u001b[0;34m]\u001b[0m\u001b[0;34m,\u001b[0m \u001b[0mcmap\u001b[0m\u001b[0;34m=\u001b[0m\u001b[0;34m'bone'\u001b[0m\u001b[0;34m)\u001b[0m \u001b[0;31m# n 번째 layer, 앞 세 개의 헤드만 plot\u001b[0m\u001b[0;34m\u001b[0m\u001b[0;34m\u001b[0m\u001b[0m\n\u001b[0m",
            "\u001b[0;31mIndexError\u001b[0m: index 1 is out of bounds for dimension 0 with size 1"
          ]
        },
        {
          "output_type": "stream",
          "name": "stderr",
          "text": [
            "/usr/local/lib/python3.10/dist-packages/IPython/core/events.py:89: UserWarning: Glyph 9601 (\\N{LOWER ONE EIGHTH BLOCK}) missing from current font.\n",
            "  func(*args, **kwargs)\n",
            "/usr/local/lib/python3.10/dist-packages/IPython/core/pylabtools.py:151: UserWarning: Glyph 9601 (\\N{LOWER ONE EIGHTH BLOCK}) missing from current font.\n",
            "  fig.canvas.print_figure(bytes_io, **kw)\n"
          ]
        },
        {
          "output_type": "display_data",
          "data": {
            "text/plain": [
              "<Figure size 1800x1200 with 3 Axes>"
            ],
            "image/png": "[encoded data removed]"
          },
          "metadata": {}
        }
      ]
    },
    {
      "cell_type": "code",
      "source": [],
      "metadata": {
        "id": "3omBJ4scDWd5"
      },
      "execution_count": null,
      "outputs": []
    }
  ]
}